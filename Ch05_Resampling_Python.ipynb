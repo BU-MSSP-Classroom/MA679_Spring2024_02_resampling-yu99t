{
 "cells": [
  {
   "cell_type": "markdown",
   "id": "ac385101",
   "metadata": {},
   "source": [
    "# Class Workbook"
   ]
  },
  {
   "cell_type": "markdown",
   "id": "7d865134",
   "metadata": {},
   "source": [
    "## In class activity"
   ]
  },
  {
   "cell_type": "code",
   "execution_count": 1,
   "id": "194cc60b",
   "metadata": {
    "kernel": "Python3",
    "tags": [
     "report_cell"
    ]
   },
   "outputs": [],
   "source": [
    "import numpy as np\n",
    "import pandas as pd\n",
    "import math\n",
    "import statsmodels.api as sm\n",
    "from plotnine import *\n",
    "# import statsmodels.formula.api as sm\n",
    "# from ISLP import load_data\n",
    "# from ISLP.models import (ModelSpec as MS,\n",
    "#                         summarize ,\n",
    "#                         poly)\n",
    "from sklearn.base import clone\n",
    "from functools import partial\n",
    "from ISLP.models import sklearn_sm\n",
    "from sklearn.model_selection import \\\n",
    "     (cross_validate,\n",
    "      KFold,\n",
    "      ShuffleSplit)\n",
    "from sklearn.metrics import mean_squared_error\n"
   ]
  },
  {
   "cell_type": "markdown",
   "id": "d786799d",
   "metadata": {},
   "source": [
    "### Ames House Data"
   ]
  },
  {
   "cell_type": "code",
   "execution_count": 2,
   "id": "e1f933c5",
   "metadata": {
    "kernel": "Python3",
    "tags": [
     "report_cell"
    ]
   },
   "outputs": [],
   "source": [
    "ames_raw=pd.read_csv(\"ames_raw.csv\")\n",
    "\n",
    "ames_raw['SalePricelog'] = np.log(ames_raw['SalePrice'])"
   ]
  },
  {
   "cell_type": "markdown",
   "id": "837bd901",
   "metadata": {},
   "source": [
    "Let's revisit the AmesHousing data.  As we did in the previous class, I will split the data into before 2008 and after.  The data up to 2008 will be the training data and after 2008 will be the testing data."
   ]
  },
  {
   "cell_type": "code",
   "execution_count": 3,
   "id": "67c2a208",
   "metadata": {
    "kernel": "Python3",
    "tags": [
     "report_cell"
    ]
   },
   "outputs": [],
   "source": [
    "ames_raw_2009, ames_raw_2008= ames_raw.query('`Yr Sold`>=2008').copy(), ames_raw.query('`Yr Sold` <2008').copy()"
   ]
  },
  {
   "cell_type": "markdown",
   "id": "ae8516aa",
   "metadata": {},
   "source": [
    "* For the regression model fit, use bootstrap to compare the standard error estimates to the model based estimates.\n",
    "\n",
    "Your code:"
   ]
  },
  {
   "cell_type": "code",
   "execution_count": 4,
   "id": "5f2fafbb",
   "metadata": {
    "Rmd_chunk_options": "echo=TRUE",
    "kernel": "Python3",
    "tags": [
     "report_cell"
    ]
   },
   "outputs": [
    {
     "name": "stdout",
     "output_type": "stream",
     "text": [
      "Order                 0\n",
      "PID                   0\n",
      "MS SubClass           0\n",
      "MS Zoning             0\n",
      "Lot Frontage        213\n",
      "Lot Area              0\n",
      "Street                0\n",
      "Alley              1235\n",
      "Lot Shape             0\n",
      "Land Contour          0\n",
      "Utilities             0\n",
      "Lot Config            0\n",
      "Land Slope            0\n",
      "Neighborhood          0\n",
      "Condition 1           0\n",
      "Condition 2           0\n",
      "Bldg Type             0\n",
      "House Style           0\n",
      "Overall Qual          0\n",
      "Overall Cond          0\n",
      "Year Built            0\n",
      "Year Remod/Add        0\n",
      "Roof Style            0\n",
      "Roof Matl             0\n",
      "Exterior 1st          0\n",
      "Exterior 2nd          0\n",
      "Mas Vnr Type         12\n",
      "Mas Vnr Area         12\n",
      "Exter Qual            0\n",
      "Exter Cond            0\n",
      "Foundation            0\n",
      "Bsmt Qual            33\n",
      "Bsmt Cond            33\n",
      "Bsmt Exposure        35\n",
      "BsmtFin Type 1       33\n",
      "BsmtFin SF 1          0\n",
      "BsmtFin Type 2       33\n",
      "BsmtFin SF 2          0\n",
      "Bsmt Unf SF           0\n",
      "Total Bsmt SF         0\n",
      "Heating               0\n",
      "Heating QC            0\n",
      "Central Air           0\n",
      "Electrical            0\n",
      "1st Flr SF            0\n",
      "2nd Flr SF            0\n",
      "Low Qual Fin SF       0\n",
      "Gr Liv Area           0\n",
      "Bsmt Full Bath        0\n",
      "Bsmt Half Bath        0\n",
      "Full Bath             0\n",
      "Half Bath             0\n",
      "Bedroom AbvGr         0\n",
      "Kitchen AbvGr         0\n",
      "Kitchen Qual          0\n",
      "TotRms AbvGrd         0\n",
      "Functional            0\n",
      "Fireplaces            0\n",
      "Fireplace Qu        622\n",
      "Garage Type          64\n",
      "Garage Yr Blt        65\n",
      "Garage Finish        65\n",
      "Garage Cars           1\n",
      "Garage Area           1\n",
      "Garage Qual          65\n",
      "Garage Cond          65\n",
      "Paved Drive           0\n",
      "Wood Deck SF          0\n",
      "Open Porch SF         0\n",
      "Enclosed Porch        0\n",
      "3Ssn Porch            0\n",
      "Screen Porch          0\n",
      "Pool Area             0\n",
      "Pool QC            1309\n",
      "Fence              1070\n",
      "Misc Feature       1280\n",
      "Misc Val              0\n",
      "Mo Sold               0\n",
      "Yr Sold               0\n",
      "Sale Type             0\n",
      "Sale Condition        0\n",
      "SalePrice             0\n",
      "SalePricelog          0\n",
      "dtype: int64\n"
     ]
    }
   ],
   "source": [
    "ames_raw_2008\n",
    "\n",
    "pd.set_option('display.max_rows', None)\n",
    "print(ames_raw_2008.isnull().sum())\n",
    "\n",
    "# The follwing variables have lots of NA\n",
    "# Lot Frontage        213\n",
    "# Alley              1235\n",
    "# Fireplace Qu        622\n",
    "# Pool QC            1309\n",
    "# Fence              1070\n",
    "# Misc Feature       1280\n",
    "\n",
    "pd.reset_option('display.max_rows')"
   ]
  },
  {
   "cell_type": "code",
   "execution_count": 5,
   "id": "e9b8f329",
   "metadata": {},
   "outputs": [],
   "source": [
    "pd.reset_option('display.max_rows')"
   ]
  },
  {
   "cell_type": "code",
   "execution_count": 6,
   "id": "2e44e857",
   "metadata": {},
   "outputs": [],
   "source": [
    "# remove variables with lots of missing variables\n",
    "columns_to_exclude = ['Lot Frontage', 'Alley', 'Fireplace Qu', 'Pool QC', 'Fence', 'Misc Feature']\n",
    "ames_raw_2008_sub = ames_raw_2008.drop(columns=columns_to_exclude)\n",
    "\n",
    "# remove missing values from the sub data set\n",
    "ames_raw_2008_sub.dropna(inplace=True)\n",
    "\n",
    "# check typs of each variable\n",
    "# ames_raw_2008_sub.dtypes \n",
    "\n",
    "# # transform object class to category to create dummy variable using MS class\n",
    "# object_columns = ames_raw_2008_sub.select_dtypes(include='object').columns\n",
    "# ames_raw_2008_sub[object_columns] = ames_raw_2008_sub[object_columns].astype('category')\n",
    "\n",
    "# reset Index prepating for the Bootstrap\n",
    "# ames_raw_2008_sub.reset_index(drop=True, inplace=True)"
   ]
  },
  {
   "cell_type": "code",
   "execution_count": 7,
   "id": "6ca3bff3",
   "metadata": {},
   "outputs": [],
   "source": [
    "# chose predictors from sacatter plots\n",
    "X = ames_raw_2008_sub[['Year Built', 'Year Remod/Add', 'Total Bsmt SF', '1st Flr SF', '2nd Flr SF', 'Gr Liv Area', 'Full Bath', 'TotRms AbvGrd', 'Garage Area']]\n",
    "# formula = \"np.log(SalePrice) ~ 1 + Q('Year Built') + Q('Year Remod/Add') + Q('Total Bsmt SF') + Q('1st Flr SF') + Q('2nd Flr SF') + Q('Gr Liv Area') + Q('Full Bath') + Q('TotRms AbvGrd') + Q('Garage Area')\"\n",
    "\n",
    "Y = ames_raw_2008_sub['SalePrice']\n",
    "\n",
    "lmfit_2008 = sm.OLS(Y, sm.add_constant(X)).fit()"
   ]
  },
  {
   "cell_type": "code",
   "execution_count": 8,
   "id": "7a7e9c26",
   "metadata": {},
   "outputs": [
    {
     "name": "stdout",
     "output_type": "stream",
     "text": [
      "bootstrap_se = \n",
      "[2.04616141e+05 8.95778733e+01 1.18496979e+02 9.75726666e+00\n",
      " 6.54182912e+01 6.50456612e+01 6.48780275e+01 4.60866145e+03\n",
      " 1.93789995e+03 1.20308199e+01]\n",
      "model_based_se = \n",
      "const             148064.597632\n",
      "Year Built            64.537299\n",
      "Year Remod/Add        85.501132\n",
      "Total Bsmt SF          6.919141\n",
      "1st Flr SF            36.670972\n",
      "2nd Flr SF            36.410293\n",
      "Gr Liv Area           36.291147\n",
      "Full Bath           3332.846355\n",
      "TotRms AbvGrd       1399.804749\n",
      "Garage Area            8.683395\n",
      "dtype: float64\n"
     ]
    }
   ],
   "source": [
    "sample_iter = 1000\n",
    "\n",
    "bootstrap_se = np.ndarray((sample_iter, len(lmfit_2008.params)))\n",
    "\n",
    "for i in range(sample_iter):\n",
    "    bs_X = X.sample(frac = 0.5, replace = True)\n",
    "    bs_Y = Y[bs_X.index]\n",
    "    \n",
    "    bs_fit = sm.OLS(bs_Y, sm.add_constant(bs_X)).fit()\n",
    "    bootstrap_se[i] = bs_fit.bse\n",
    "    \n",
    "\n",
    "bootstrap_avg_se = bootstrap_se.mean(axis = 0)\n",
    "\n",
    "print(f'bootstrap_se = \\n{bootstrap_avg_se}')\n",
    "\n",
    "print(f'model_based_se = \\n{lmfit_2008.bse}')  \n"
   ]
  },
  {
   "cell_type": "markdown",
   "id": "c3e8bb5d",
   "metadata": {},
   "source": [
    "Your answer:\n",
    "\n",
    "~~~\n",
    "Please write your answer in full sentences.\n",
    "\n",
    "SE from the Bootstrap method is wider than model based SE. This is reasonable because bootstrap method is more robust than model based estimation.\n",
    "~~~\n",
    "\n",
    "\n",
    "* Use cross validation  to decide which model has a good predictive accuracy.  Does the result hold true for the prediction of future data?\n",
    "\n",
    "Your code:"
   ]
  },
  {
   "cell_type": "code",
   "execution_count": 9,
   "id": "2fa22fc7",
   "metadata": {
    "Rmd_chunk_options": "echo=TRUE",
    "kernel": "Python3",
    "tags": [
     "report_cell"
    ]
   },
   "outputs": [
    {
     "name": "stdout",
     "output_type": "stream",
     "text": [
      "Model 1 Average MSE: 1939459655.707212\n",
      "Model 2 Average MSE: 1553774108.840901\n"
     ]
    }
   ],
   "source": [
    "kf = KFold(n_splits=10, shuffle=True, random_state=123)\n",
    "# shuffle before deviding data\n",
    "\n",
    "mse_model1 = []\n",
    "mse_model2 = []\n",
    "\n",
    "for train_index, validation_index in kf.split(ames_raw_2008_sub):\n",
    "    train_data, validation_data = ames_raw_2008_sub.iloc[train_index], ames_raw_2008_sub.iloc[validation_index]\n",
    "    \n",
    "    X_train = train_data[['Year Built', 'Year Remod/Add', 'Total Bsmt SF', '1st Flr SF', '2nd Flr SF', 'Gr Liv Area', 'Full Bath', 'TotRms AbvGrd', 'Garage Area']]\n",
    "    Y_train = Y[X_train.index]\n",
    "\n",
    "    X_val = validation_data[['Year Built', 'Year Remod/Add', 'Total Bsmt SF', '1st Flr SF', '2nd Flr SF', 'Gr Liv Area', 'Full Bath', 'TotRms AbvGrd', 'Garage Area']]\n",
    "\n",
    "    # Model 1　(The previous model I selected above)\n",
    "    model1 = sm.OLS(Y_train, sm.add_constant(X_train)).fit()\n",
    "    predictions1 = model1.predict(sm.add_constant(X_val))\n",
    "    # predictions1= predictions1.fillna(predictions1.mean())\n",
    "    mse_model1.append(mean_squared_error(validation_data['SalePrice'], predictions1))\n",
    "    \n",
    "    # Model 2 (Included \"Overall Qual\" on the model 1)\n",
    "    X2_train = train_data[['Overall Qual', 'Year Built', 'Year Remod/Add', 'Total Bsmt SF', '1st Flr SF', '2nd Flr SF', 'Gr Liv Area', 'Full Bath', 'TotRms AbvGrd', 'Garage Area']]\n",
    "    \n",
    "    X2_val = validation_data[['Overall Qual', 'Year Built', 'Year Remod/Add', 'Total Bsmt SF', '1st Flr SF', '2nd Flr SF', 'Gr Liv Area', 'Full Bath', 'TotRms AbvGrd', 'Garage Area']]\n",
    "\n",
    "    model2 = sm.OLS(Y_train, sm.add_constant(X2_train)).fit()\n",
    "    predictions2 = model2.predict(sm.add_constant(X2_val))\n",
    "    # predictions2 = predictions2.fillna(predictions2.mean())\n",
    "    mse_model2.append(mean_squared_error(validation_data['SalePrice'], predictions2))\n",
    "\n",
    "\n",
    "\n",
    "# Average MSE\n",
    "avg_mse_model1 = np.mean(mse_model1)\n",
    "avg_mse_model2 = np.mean(mse_model2)\n",
    "\n",
    "print(f\"Model 1 Average MSE: {avg_mse_model1}\")\n",
    "print(f\"Model 2 Average MSE: {avg_mse_model2}\")\n",
    "\n"
   ]
  },
  {
   "cell_type": "markdown",
   "id": "ee392923",
   "metadata": {},
   "source": [
    "Your answer:\n",
    "\n",
    "~~~\n",
    "Please write your answer in full sentences.\n",
    "\n",
    "From the 10-fold cross validation, MSE became smaller after adding variables 'Overall Qual' in the model.   \n",
    "I created validation data sets through CV methods to expect that we can predict the MSE for the test data set (future data sets), but I think this is not always true.\n",
    "~~~\n",
    "\n",
    "\n",
    "* Using `knn.reg` fit KNN regression model.  Use cross validation to decide which K to use.\n",
    "\n",
    "Your code:"
   ]
  },
  {
   "cell_type": "code",
   "execution_count": 10,
   "id": "496dab12",
   "metadata": {},
   "outputs": [
    {
     "name": "stdout",
     "output_type": "stream",
     "text": [
      "Best K = 11 with CV score = 1575734522.6829734\n"
     ]
    }
   ],
   "source": [
    "from sklearn.model_selection import cross_val_score\n",
    "from sklearn.neighbors import KNeighborsRegressor\n",
    "from sklearn.preprocessing import StandardScaler\n",
    "\n",
    "def cv_knn(k_range, X, Y, cv_iter):\n",
    "    scaler = StandardScaler()\n",
    "    X_scaled = scaler.fit_transform(X)\n",
    "\n",
    "    k_candidates = k_range\n",
    "    cv_score = []\n",
    "\n",
    "    for k in k_candidates:\n",
    "        knn = KNeighborsRegressor(n_neighbors=k)\n",
    "        scores = cross_val_score(knn, X_scaled, Y, cv=cv_iter, scoring='neg_mean_squared_error')\n",
    "        cv_score.append(-scores.mean())\n",
    "            \n",
    "    best_k = k_candidates[np.argmin(cv_score)]\n",
    "    print(f'Best K = {best_k} with CV score = {min(cv_score)}')\n",
    "\n",
    "    return cv_score\n",
    "\n",
    "cv_res_knn = cv_knn(range(1, 20), X=X, Y=Y, cv_iter=5)\n"
   ]
  },
  {
   "cell_type": "markdown",
   "id": "e116dea8",
   "metadata": {},
   "source": [
    "Your answer:\n",
    "\n",
    "~~~\n",
    "Please write your answer in full sentences.\n",
    "\n",
    "\n",
    "~~~\n",
    "\n",
    "\n",
    "* Which model performs better on your training data?  Which model performs better in your future prediction?\n",
    "\n",
    "Your code:"
   ]
  },
  {
   "cell_type": "code",
   "execution_count": 11,
   "id": "1b41a25c",
   "metadata": {
    "Rmd_chunk_options": "echo=TRUE",
    "kernel": "Python3",
    "tags": [
     "report_cell"
    ]
   },
   "outputs": [
    {
     "data": {
      "image/png": "[encoded data removed]",
      "text/plain": [
       "<Figure size 640x480 with 1 Axes>"
      ]
     },
     "metadata": {},
     "output_type": "display_data"
    }
   ],
   "source": [
    "import matplotlib.pyplot as plt\n",
    "plt.plot(range(1,20), cv_res_knn)\n",
    "plt.xlabel('K')\n",
    "plt.ylabel('CV score')\n",
    "plt.title('KNN CV score')\n",
    "plt.xticks(range(1,20))\n",
    "plt.show()"
   ]
  },
  {
   "cell_type": "markdown",
   "id": "adf13891",
   "metadata": {},
   "source": [
    "Your answer:\n",
    "\n",
    "~~~\n",
    "Please write your answer in full sentences.\n",
    "\n",
    "\n",
    "~~~"
   ]
  },
  {
   "cell_type": "markdown",
   "id": "75b49db5",
   "metadata": {},
   "source": [
    "## Problem Set"
   ]
  },
  {
   "cell_type": "markdown",
   "id": "3e1e310f",
   "metadata": {},
   "source": [
    "### Bootstrap\n",
    "\n",
    "We will now investigate numerically the probability that a bootstrap sample of size n = 100 contains the jth observation. Here j = 4. We first create an array store with values that will subsequently\n",
    "be overwritten using the function np.empty(). We then repeatedly create bootstrap samples, and each time we record whether or not the fifth observation is contained in the bootstrap\n",
    "sample.\n",
    "\n",
    "We will investigate numerically the probability that a bootstrap sample of size n = 100 contains the jth observation. Here j = 4. We repeatedly create bootstrap samples, and each time\n",
    "we record whether or not the fourth observation is contained in the bootstrap sample.\n",
    "\n",
    "Here is the code to get you going"
   ]
  },
  {
   "cell_type": "code",
   "execution_count": 12,
   "id": "275e75fd",
   "metadata": {
    "Rmd_chunk_options": "echo =TRUE,eval=FALSE",
    "kernel": "Python3",
    "tags": [
     "report_cell"
    ]
   },
   "outputs": [
    {
     "data": {
      "text/plain": [
       "0.6362"
      ]
     },
     "execution_count": 12,
     "metadata": {},
     "output_type": "execute_result"
    }
   ],
   "source": [
    "rng = np.random.default_rng (10)\n",
    "store = np.empty (10000)\n",
    "for i in range (10000):\n",
    "    store[i] = np.sum(rng.choice(100, 100, replace=True) == 4) > 0\n",
    "\n",
    "np.mean(store)"
   ]
  },
  {
   "cell_type": "markdown",
   "id": "aa96d784",
   "metadata": {},
   "source": [
    "Comment on the results obtained.\n",
    "\n",
    "\n",
    "Your code:"
   ]
  },
  {
   "cell_type": "code",
   "execution_count": 13,
   "id": "73352cec",
   "metadata": {
    "Rmd_chunk_options": "echo=TRUE",
    "kernel": "Python3",
    "tags": [
     "report_cell"
    ]
   },
   "outputs": [],
   "source": [
    "def bs_prob(n_times):\n",
    "    population = range(100)\n",
    "    prob_list = []\n",
    "    for i in range(n_times) :\n",
    "        samples = np.random.choice(population, 100, replace = True)\n",
    "        \n",
    "        if 4 in samples:\n",
    "            prob_list.append(1)\n",
    "        else:\n",
    "            prob_list.append(0)\n",
    "    \n",
    "    return prob_list\n",
    "        \n",
    "result = bs_prob(10000)"
   ]
  },
  {
   "cell_type": "code",
   "execution_count": 14,
   "id": "d154a9c7",
   "metadata": {},
   "outputs": [
    {
     "name": "stdout",
     "output_type": "stream",
     "text": [
      "0.6383\n"
     ]
    }
   ],
   "source": [
    "print(np.mean(result))"
   ]
  },
  {
   "cell_type": "markdown",
   "id": "ce1a4875",
   "metadata": {},
   "source": [
    "Your answer:\n",
    "\n",
    "~~~\n",
    "Please write your answer in full sentences.\n",
    "\n",
    "From the Bootstrap method above, the probabiliy of specific obseravation being included is 0.632. This is almost same as the result from mathmatical calculation.\n",
    "~~~"
   ]
  },
  {
   "cell_type": "markdown",
   "id": "ca9da176",
   "metadata": {},
   "source": [
    "### CV\n",
    "\n",
    "We will now perform cross-validation on a simulated data set.\n",
    "(a) Generate a simulated data set as follows:"
   ]
  },
  {
   "cell_type": "code",
   "execution_count": 15,
   "id": "269de067",
   "metadata": {
    "Rmd_chunk_options": "eval=FALSE, echo =TRUE",
    "kernel": "Python3",
    "tags": [
     "report_cell"
    ]
   },
   "outputs": [],
   "source": [
    "rng = np.random.default_rng(1)\n",
    "x = rng.normal(size=100)\n",
    "y = x - 2 * x**2 + rng.normal(size=100)"
   ]
  },
  {
   "cell_type": "markdown",
   "id": "a7051ad7",
   "metadata": {},
   "source": [
    "In this data set, what is n and what is p? Write out the model\n",
    "used to generate the data in equation form.\n",
    "\n",
    "\n",
    "Your code:"
   ]
  },
  {
   "cell_type": "markdown",
   "id": "48cab751",
   "metadata": {},
   "source": [
    "Your answer:\n",
    "\n",
    "~~~\n",
    "Please write your answer in full sentences.\n",
    "\n",
    "n = 100 (len(x))\n",
    "p = 1 (only x)\n",
    "~~~\n",
    "\n",
    "\n",
    "(b) Create a scatterplot of X against Y . Comment on what you find.\n",
    "\n",
    "\n",
    "Your code:"
   ]
  },
  {
   "cell_type": "code",
   "execution_count": 16,
   "id": "3f195ab3",
   "metadata": {
    "Rmd_chunk_options": "echo=TRUE",
    "kernel": "Python3",
    "tags": []
   },
   "outputs": [
    {
     "data": {
      "image/png": "[encoded data removed]",
      "text/plain": [
       "<Figure size 640x480 with 1 Axes>"
      ]
     },
     "metadata": {},
     "output_type": "display_data"
    }
   ],
   "source": [
    "plt.scatter(x, y)\n",
    "plt.show()"
   ]
  },
  {
   "cell_type": "markdown",
   "id": "ef692fff",
   "metadata": {},
   "source": [
    "Your answer:\n",
    "\n",
    "~~~\n",
    "Please write your answer in full sentences.\n",
    "\n",
    "This shape seems quadratic.\n",
    "~~~\n",
    "\n",
    "(c) Set a random seed, and then compute the LOOCV errors that result from fitting the following four models using least squares:\n",
    "\n",
    "i.   $Y = \\beta_0 + \\beta_1X + \\epsilon$\n",
    "ii.  $Y = \\beta_0 + \\beta_1X + \\beta_2X^2 + \\epsilon$\n",
    "iii. $Y = \\beta_0 + \\beta_1X + \\beta_2X^2 + \\beta_3X^3 + \\epsilon$\n",
    "iv.  $Y = \\beta_0 + \\beta_1X + \\beta_2X^2 + \\beta_3X^3 + \\beta_4X^4 + \\epsilon$.\n",
    "\n",
    "Note you may find it helpful to use the `data.frame()` function\n",
    "to create a single data set containing both $X$ and $Y$ .\n",
    "\n",
    "\n",
    "Your code:"
   ]
  },
  {
   "cell_type": "code",
   "execution_count": 17,
   "id": "45208594",
   "metadata": {
    "Rmd_chunk_options": "echo=TRUE",
    "kernel": "Python3",
    "tags": [
     "report_cell"
    ]
   },
   "outputs": [
    {
     "name": "stdout",
     "output_type": "stream",
     "text": [
      "LOOCV error for degree 1: 5.363021199129374\n",
      "LOOCV error for degree 2: 0.886059885605546\n",
      "LOOCV error for degree 3: 0.9126899843763812\n",
      "LOOCV error for degree 4: 0.958589590738793\n"
     ]
    }
   ],
   "source": [
    "from sklearn.linear_model import LinearRegression\n",
    "from sklearn.preprocessing import PolynomialFeatures\n",
    "from sklearn.pipeline import make_pipeline\n",
    "# Define the degrees for the polynomial models\n",
    "degrees = [1, 2, 3, 4]\n",
    "rng = np.random.default_rng(123)\n",
    "x = rng.normal(size=100)\n",
    "y = x - 2 * x**2 + rng.normal(size=100)\n",
    "# For each degree, fit the model and compute the LOOCV error\n",
    "for degree in degrees:\n",
    "    model = make_pipeline(PolynomialFeatures(degree), LinearRegression(fit_intercept = False))\n",
    "    scores = cross_val_score(model, sm.add_constant(x), y, cv=x.shape[0], scoring='neg_mean_squared_error')\n",
    "    #  cv=x.shape[0] represents k = n (that means LOOCV)\n",
    "    print(f'LOOCV error for degree {degree}: {-scores.mean()}')"
   ]
  },
  {
   "cell_type": "markdown",
   "id": "26dae8c9",
   "metadata": {},
   "source": [
    "Your answer:\n",
    "\n",
    "~~~\n",
    "Please write your answer in full sentences.\n",
    "\n",
    "\n",
    "~~~\n",
    "\n",
    "\n",
    "(d) Repeat (c) using another random seed, and report your results.\n",
    "Are your results the same as what you got in (c)? Why?\n",
    "\n",
    "Your code:"
   ]
  },
  {
   "cell_type": "code",
   "execution_count": 18,
   "id": "4fcf9ba9",
   "metadata": {
    "Rmd_chunk_options": "echo=TRUE",
    "kernel": "Python3",
    "tags": [
     "report_cell"
    ]
   },
   "outputs": [
    {
     "name": "stdout",
     "output_type": "stream",
     "text": [
      "LOOCV error for degree 1: 12.953546149037813\n",
      "LOOCV error for degree 2: 1.1213575716004756\n",
      "LOOCV error for degree 3: 1.130669835402615\n",
      "LOOCV error for degree 4: 1.1475232183470074\n"
     ]
    }
   ],
   "source": [
    "degrees = [1, 2, 3, 4]\n",
    "rng = np.random.default_rng(1234)\n",
    "x = rng.normal(size=100)\n",
    "y = x - 2 * x**2 + rng.normal(size=100)\n",
    "# For each degree, fit the model and compute the LOOCV error\n",
    "for degree in degrees:\n",
    "    model = make_pipeline(PolynomialFeatures(degree), LinearRegression(fit_intercept = False))\n",
    "    scores = cross_val_score(model, sm.add_constant(x), y, cv=x.shape[0], scoring='neg_mean_squared_error')\n",
    "    #  cv=x.shape[0] represents k = n (that means LOOCV)\n",
    "    print(f'LOOCV error for degree {degree}: {-scores.mean()}')"
   ]
  },
  {
   "cell_type": "markdown",
   "id": "1b1c1120",
   "metadata": {},
   "source": [
    "Your answer:\n",
    "\n",
    "~~~\n",
    "Please write your answer in full sentences.\n",
    "\n",
    "Even though cross validation scores are changed when we use another random seed, but the conclustion that model with degree 2 is the best is same beween them. \n",
    "~~~\n",
    "\n",
    "(e) Which of the models in (c) had the smallest LOOCV error? Is this what you expected? Explain your answer.\n",
    "\n",
    "Your code:"
   ]
  },
  {
   "cell_type": "markdown",
   "id": "6301a74c",
   "metadata": {},
   "source": [
    "Your answer:\n",
    "\n",
    "~~~\n",
    "Please write your answer in full sentences.\n",
    "\n",
    "As shown in the scatter plot, the quadracic function shows the best score.\n",
    "~~~\n",
    "\n",
    "\n",
    "(f) Comment on the statistical significance of the coefficient estimates that results from fitting each of the models in (c) using least squares. Do these results agree with the conclusions drawn based on the cross-validation results?\n",
    "\n",
    "\n",
    "Your code:"
   ]
  },
  {
   "cell_type": "code",
   "execution_count": 19,
   "id": "d84ba43e",
   "metadata": {
    "Rmd_chunk_options": "echo=TRUE",
    "kernel": "Python3",
    "tags": [
     "report_cell"
    ]
   },
   "outputs": [
    {
     "name": "stdout",
     "output_type": "stream",
     "text": [
      "Degree = 1\n",
      "intercept = -1.4915097467377099\n",
      "coef = [0.         0.68177198]\n",
      "Degree = 2\n",
      "intercept = 0.0352790337096438\n",
      "coef = [ 0.          1.04294946 -1.9268314 ]\n",
      "Degree = 3\n",
      "intercept = 0.040492157308186005\n",
      "coef = [ 0.          1.11727445 -1.93187021 -0.0334299 ]\n",
      "Degree = 4\n",
      "intercept = 0.1020641416208159\n",
      "coef = [ 0.          1.14506065 -2.11040241 -0.03586033  0.04554276]\n"
     ]
    }
   ],
   "source": [
    "rng = np.random.default_rng(123)\n",
    "x = rng.normal(size=100).reshape(-1, 1)\n",
    "y = x.flatten() - 2 * x.flatten()**2 + rng.normal(size=100)\n",
    "# For each degree, fit the model and compute the LOOCV error\n",
    "for degree in degrees:\n",
    "    print(f'Degree = {degree}')\n",
    "    model = make_pipeline(PolynomialFeatures(degree), LinearRegression())\n",
    "\n",
    "    model.fit(x, y)\n",
    "    intercept, coef = model.named_steps['linearregression'].intercept_, model.named_steps['linearregression'].coef_\n",
    "    \n",
    "    print(f'intercept = {intercept}')\n",
    "    print(f'coef = {coef}')"
   ]
  },
  {
   "cell_type": "markdown",
   "id": "26ea7d2f",
   "metadata": {},
   "source": [
    "Your answer:\n",
    "\n",
    "~~~\n",
    "Please write your answer in full sentences.\n",
    "\n",
    "\n",
    "~~~"
   ]
  },
  {
   "cell_type": "markdown",
   "id": "02963416",
   "metadata": {},
   "source": [
    "### Default 1\n",
    "\n",
    "In Chapter 4, we used logistic regression to predict the probability of default using income and balance on the `Default` data set. We will now estimate the test error of this logistic regression model using the validation set approach. Do not forget to set a random seed before beginning your analysis.\n",
    "\n",
    "(a) Fit a logistic regression model that uses income and balance to predict default.\n",
    "\n",
    "Your code:"
   ]
  },
  {
   "cell_type": "code",
   "execution_count": 20,
   "id": "75995a81",
   "metadata": {
    "Rmd_chunk_options": "echo=TRUE",
    "kernel": "Python3",
    "tags": [
     "report_cell"
    ]
   },
   "outputs": [],
   "source": [
    "from ISLP import load_data\n",
    "Default = load_data('Default')\n",
    "\n",
    "Default['defaultInt'] = (Default['default'] == 'Yes').astype(int)"
   ]
  },
  {
   "cell_type": "markdown",
   "id": "4cf78636",
   "metadata": {},
   "source": [
    "Your answer:\n",
    "\n",
    "~~~\n",
    "Please write your answer in full sentences.\n",
    "\n",
    "\n",
    "~~~\n",
    "\n",
    "\n",
    "(b) Using the validation set approach, estimate the test error of this model. In order to do this, you must perform the following steps:\n",
    "\n",
    "i. Split the sample set into a training set and a validation set.\n",
    "\n",
    "Your code:"
   ]
  },
  {
   "cell_type": "code",
   "execution_count": 21,
   "id": "3b5e79ce",
   "metadata": {
    "Rmd_chunk_options": "echo=TRUE",
    "kernel": "Python3",
    "tags": [
     "report_cell"
    ]
   },
   "outputs": [],
   "source": [
    "from sklearn.model_selection import train_test_split\n",
    "\n",
    "X_train, X_test, y_train, y_test = train_test_split(Default[['income', 'balance']], Default['defaultInt'], test_size=0.3, random_state=123)"
   ]
  },
  {
   "cell_type": "markdown",
   "id": "1c1d6cd6",
   "metadata": {},
   "source": [
    "Your answer:\n",
    "\n",
    "~~~\n",
    "Please write your answer in full sentences.\n",
    "\n",
    "\n",
    "~~~\n",
    "\n",
    "ii. Fit a multiple logistic regression model using only the training observations.\n",
    "\n",
    "Your code:"
   ]
  },
  {
   "cell_type": "code",
   "execution_count": 22,
   "id": "4933acb7",
   "metadata": {
    "Rmd_chunk_options": "echo=TRUE",
    "kernel": "Python3",
    "tags": [
     "report_cell"
    ]
   },
   "outputs": [
    {
     "name": "stdout",
     "output_type": "stream",
     "text": [
      "Optimization terminated successfully.\n",
      "         Current function value: 0.081061\n",
      "         Iterations 10\n",
      "                           Logit Regression Results                           \n",
      "==============================================================================\n",
      "Dep. Variable:             defaultInt   No. Observations:                 7000\n",
      "Model:                          Logit   Df Residuals:                     6997\n",
      "Method:                           MLE   Df Model:                            2\n",
      "Date:                Sun, 18 Feb 2024   Pseudo R-squ.:                  0.4484\n",
      "Time:                        10:00:25   Log-Likelihood:                -567.43\n",
      "converged:                       True   LL-Null:                       -1028.6\n",
      "Covariance Type:            nonrobust   LLR p-value:                5.091e-201\n",
      "==============================================================================\n",
      "                 coef    std err          z      P>|z|      [0.025      0.975]\n",
      "------------------------------------------------------------------------------\n",
      "const        -11.1762      0.491    -22.778      0.000     -12.138     -10.214\n",
      "income      2.051e-05   5.79e-06      3.542      0.000    9.16e-06    3.19e-05\n",
      "balance        0.0054      0.000     21.136      0.000       0.005       0.006\n",
      "==============================================================================\n",
      "\n",
      "Possibly complete quasi-separation: A fraction 0.12 of observations can be\n",
      "perfectly predicted. This might indicate that there is complete\n",
      "quasi-separation. In this case some parameters will not be identified.\n"
     ]
    }
   ],
   "source": [
    "model_lr = sm.Logit(y_train, sm.add_constant(X_train)).fit()\n",
    "print(model_lr.summary())"
   ]
  },
  {
   "cell_type": "markdown",
   "id": "d0e17ef7",
   "metadata": {},
   "source": [
    "Your answer:\n",
    "\n",
    "~~~\n",
    "Please write your answer in full sentences.\n",
    "\n",
    "\n",
    "~~~\n",
    "\n",
    "\n",
    "iii. Obtain a prediction of default status for each individual in the validation set by computing the posterior probability of default for that individual, and classifying the individual to the default category if the posterior probability is greater than 0.5.\n",
    "\n",
    "\n",
    "Your code:"
   ]
  },
  {
   "cell_type": "code",
   "execution_count": 23,
   "id": "2337c08a",
   "metadata": {
    "Rmd_chunk_options": "echo=TRUE",
    "kernel": "Python3",
    "tags": [
     "report_cell"
    ]
   },
   "outputs": [
    {
     "name": "stdout",
     "output_type": "stream",
     "text": [
      "0.9743333333333334\n"
     ]
    }
   ],
   "source": [
    "accuracy = np.mean((model_lr.predict(sm.add_constant(X_test)) > 0.5) == y_test)\n",
    "print(accuracy)"
   ]
  },
  {
   "cell_type": "markdown",
   "id": "05db2665",
   "metadata": {},
   "source": [
    "Your answer:\n",
    "\n",
    "~~~\n",
    "Please write your answer in full sentences.\n",
    "\n",
    "\n",
    "~~~\n",
    "\n",
    "\n",
    "iv. Compute the validation set error, which is the fraction of the observations in the validation set that are misclassified.\n",
    "\n",
    "Your code:"
   ]
  },
  {
   "cell_type": "code",
   "execution_count": 24,
   "id": "1b9bbe22",
   "metadata": {
    "Rmd_chunk_options": "echo=TRUE",
    "kernel": "Python3",
    "tags": [
     "report_cell"
    ]
   },
   "outputs": [
    {
     "name": "stdout",
     "output_type": "stream",
     "text": [
      "Validation set error is 0.025666666666666615\n"
     ]
    }
   ],
   "source": [
    "print(f'Validation set error is {1 - accuracy}')"
   ]
  },
  {
   "cell_type": "markdown",
   "id": "3ea2e7e5",
   "metadata": {},
   "source": [
    "Your answer:\n",
    "\n",
    "~~~\n",
    "Please write your answer in full sentences.\n",
    "\n",
    "\n",
    "~~~\n",
    "\n",
    "\n",
    "(c) Repeat the process in (b) three times, using three different splits of the observations into a training set and a validation set. Comment on the results obtained.\n",
    "\n",
    "\n",
    "Your code:"
   ]
  },
  {
   "cell_type": "code",
   "execution_count": 25,
   "id": "021da8ff",
   "metadata": {
    "Rmd_chunk_options": "echo=TRUE",
    "kernel": "Python3",
    "tags": [
     "report_cell"
    ]
   },
   "outputs": [
    {
     "name": "stdout",
     "output_type": "stream",
     "text": [
      "Optimization terminated successfully.\n",
      "         Current function value: 0.076858\n",
      "         Iterations 10\n",
      "accuracy(state0 is 0.9726666666666667\n",
      "Optimization terminated successfully.\n",
      "         Current function value: 0.078788\n",
      "         Iterations 10\n",
      "accuracy(state1 is 0.9753333333333334\n",
      "Optimization terminated successfully.\n",
      "         Current function value: 0.082411\n",
      "         Iterations 10\n",
      "accuracy(state2 is 0.9763333333333334\n"
     ]
    }
   ],
   "source": [
    "from sklearn.model_selection import train_test_split\n",
    "\n",
    "# random_state = 0, 1, 2,\n",
    "for i in range(3):\n",
    "    X_train, X_test, y_train, y_test = train_test_split(Default[['income', 'balance']], Default['defaultInt'], test_size=0.3, random_state = i)\n",
    "    \n",
    "    model_lr = sm.Logit(y_train, sm.add_constant(X_train)).fit()\n",
    "    \n",
    "    accuracy = np.mean((model_lr.predict(sm.add_constant(X_test)) > 0.5) == y_test)\n",
    "    \n",
    "    print(f'accuracy(state{i} is {accuracy}')"
   ]
  },
  {
   "cell_type": "markdown",
   "id": "c2108a59",
   "metadata": {},
   "source": [
    "Your answer:\n",
    "\n",
    "~~~\n",
    "Please write your answer in full sentences.\n",
    "\n",
    "We got almost same results (accuracy is around 97-98%), but the exact value is different from each other.\n",
    "~~~\n",
    "\n",
    "\n",
    "(d) Now consider a logistic regression model that predicts the probability of default using income, balance, and a dummy variable for student. Estimate the test error for this model using the validation set approach. Comment on whether or not including a dummy variable for student leads to a reduction in the test error rate.\n",
    "\n",
    "\n",
    "Your code:"
   ]
  },
  {
   "cell_type": "code",
   "execution_count": 26,
   "id": "0087016a",
   "metadata": {
    "Rmd_chunk_options": "echo=TRUE",
    "kernel": "Python3",
    "tags": [
     "report_cell"
    ]
   },
   "outputs": [],
   "source": [
    "Default['studentInt'] = (Default['student'] == 'Yes').astype(int)"
   ]
  },
  {
   "cell_type": "code",
   "execution_count": 27,
   "id": "b4e1951b",
   "metadata": {},
   "outputs": [
    {
     "name": "stdout",
     "output_type": "stream",
     "text": [
      "Optimization terminated successfully.\n",
      "         Current function value: 0.081915\n",
      "         Iterations 10\n",
      "                           Logit Regression Results                           \n",
      "==============================================================================\n",
      "Dep. Variable:             defaultInt   No. Observations:                 7000\n",
      "Model:                          Logit   Df Residuals:                     6996\n",
      "Method:                           MLE   Df Model:                            3\n",
      "Date:                Sun, 18 Feb 2024   Pseudo R-squ.:                  0.4794\n",
      "Time:                        10:00:26   Log-Likelihood:                -573.41\n",
      "converged:                       True   LL-Null:                       -1101.5\n",
      "Covariance Type:            nonrobust   LLR p-value:                1.161e-228\n",
      "==============================================================================\n",
      "                 coef    std err          z      P>|z|      [0.025      0.975]\n",
      "------------------------------------------------------------------------------\n",
      "const        -10.8795      0.572    -19.029      0.000     -12.000      -9.759\n",
      "studentInt    -0.7184      0.272     -2.646      0.008      -1.251      -0.186\n",
      "income      1.051e-06   9.44e-06      0.111      0.911   -1.75e-05    1.96e-05\n",
      "balance        0.0059      0.000     21.463      0.000       0.005       0.006\n",
      "==============================================================================\n",
      "\n",
      "Possibly complete quasi-separation: A fraction 0.15 of observations can be\n",
      "perfectly predicted. This might indicate that there is complete\n",
      "quasi-separation. In this case some parameters will not be identified.\n"
     ]
    }
   ],
   "source": [
    "X_train2, X_test2, y_train2, y_test2 = train_test_split(Default[['studentInt', 'income', 'balance']], Default['defaultInt'], test_size=0.3, random_state = i)\n",
    "model_lr2 = sm.Logit(y_train2, sm.add_constant(X_train2)).fit()\n",
    "print(model_lr2.summary())"
   ]
  },
  {
   "cell_type": "code",
   "execution_count": 28,
   "id": "3889c1dd",
   "metadata": {},
   "outputs": [
    {
     "name": "stdout",
     "output_type": "stream",
     "text": [
      "accuracy for model with student variable is0.9763333333333334\n"
     ]
    }
   ],
   "source": [
    "accuracy2 = np.mean((model_lr2.predict(sm.add_constant(X_test2)) > 0.5) == y_test2)\n",
    "print(f'accuracy for model with student variable is{accuracy2}')"
   ]
  },
  {
   "cell_type": "markdown",
   "id": "f2fb222e",
   "metadata": {},
   "source": [
    "Your answer:\n",
    "\n",
    "~~~\n",
    "Please write your answer in full sentences.\n",
    "\n",
    "The accuracy from these two models are almost same.\n",
    "~~~"
   ]
  },
  {
   "cell_type": "markdown",
   "id": "5eb2e117",
   "metadata": {},
   "source": [
    "### Default 2\n",
    "\n",
    "We continue to consider the use of a logistic regression model to\n",
    "predict the probability of default using income and balance on the\n",
    "Default data set. In particular, we will now compute estimates for the\n",
    "standard errors of the income and balance logistic regression coefficients\n",
    "in two different ways: (1) using the bootstrap, and (2) using the\n",
    "standard formula for computing the standard errors in the sm.GLM()\n",
    "function. Do not forget to set a random seed before beginning your\n",
    "analysis.\n",
    "\n",
    "(a) Using the `summarize()` and `sm.GLM()` functions, determine the\n",
    "estimated standard errors for the coefficients associated with\n",
    "income and balance in a multiple logistic regression model that\n",
    "uses both predictors.\n",
    "Your code:"
   ]
  },
  {
   "cell_type": "code",
   "execution_count": 29,
   "id": "c9e48b55",
   "metadata": {
    "Rmd_chunk_options": "echo=TRUE",
    "kernel": "Python3",
    "tags": [
     "report_cell"
    ]
   },
   "outputs": [
    {
     "name": "stdout",
     "output_type": "stream",
     "text": [
      "                 Generalized Linear Model Regression Results                  \n",
      "==============================================================================\n",
      "Dep. Variable:             defaultInt   No. Observations:                 7000\n",
      "Model:                            GLM   Df Residuals:                     6997\n",
      "Model Family:                Binomial   Df Model:                            2\n",
      "Link Function:                  Logit   Scale:                          1.0000\n",
      "Method:                          IRLS   Log-Likelihood:                -576.88\n",
      "Date:                Sun, 18 Feb 2024   Deviance:                       1153.8\n",
      "Time:                        10:00:26   Pearson chi2:                 4.82e+03\n",
      "No. Iterations:                     9   Pseudo R-squ. (CS):             0.1392\n",
      "Covariance Type:            nonrobust                                         \n",
      "==============================================================================\n",
      "                 coef    std err          z      P>|z|      [0.025      0.975]\n",
      "------------------------------------------------------------------------------\n",
      "const        -11.6174      0.509    -22.830      0.000     -12.615     -10.620\n",
      "income      2.063e-05   5.83e-06      3.537      0.000     9.2e-06    3.21e-05\n",
      "balance        0.0058      0.000     21.534      0.000       0.005       0.006\n",
      "==============================================================================\n"
     ]
    }
   ],
   "source": [
    "from statsmodels.genmod.generalized_linear_model import GLM\n",
    "model_glm = GLM(y_train, sm.add_constant(X_train), family = sm.families.Binomial()).fit()\n",
    "print(model_glm.summary())"
   ]
  },
  {
   "cell_type": "code",
   "execution_count": 30,
   "id": "8ae7553f",
   "metadata": {},
   "outputs": [
    {
     "name": "stdout",
     "output_type": "stream",
     "text": [
      "bootstrap_se = \n",
      "[6.19730539e-01 7.09470079e-06 3.24046327e-04]\n",
      "model_based_se = \n",
      "const      0.508875\n",
      "income     0.000006\n",
      "balance    0.000268\n",
      "dtype: float64\n"
     ]
    }
   ],
   "source": [
    "# compare SE from Booststrap and model based one\n",
    "X = Default[['income', 'balance']]\n",
    "y = Default['defaultInt']\n",
    "\n",
    "n = 1000\n",
    "bootstrap_se = np.ndarray((n, len(model_glm.params)))\n",
    "\n",
    "for i in range(n):\n",
    "    bs_X = X.sample(frac = 0.5, replace = True)\n",
    "    bs_Y = y[bs_X.index]\n",
    "    \n",
    "    bs_fit = sm.GLM(bs_Y, sm.add_constant(bs_X), family = sm.families.Binomial()).fit()\n",
    "    bootstrap_se[i] = bs_fit.bse\n",
    "    \n",
    "\n",
    "bootstrap_avg_se = bootstrap_se.mean(axis = 0)\n",
    "\n",
    "print(f'bootstrap_se = \\n{bootstrap_avg_se}')\n",
    "\n",
    "print(f'model_based_se = \\n{model_glm.bse}')  "
   ]
  },
  {
   "cell_type": "markdown",
   "id": "7dabf728",
   "metadata": {},
   "source": [
    "Your answer:\n",
    "\n",
    "~~~\n",
    "Please write your answer in full sentences.\n",
    "\n",
    "\n",
    "~~~\n",
    "\n",
    "\n",
    "(b) Write a function, `boot_fn()`, that takes as input the Default data\n",
    "set as well as an index of the observations, and that outputs\n",
    "the coefficient estimates for income and balance in the multiple\n",
    "logistic regression model.\n",
    "\n",
    "Your code:"
   ]
  },
  {
   "cell_type": "code",
   "execution_count": 31,
   "id": "150d3446",
   "metadata": {
    "Rmd_chunk_options": "echo=TRUE",
    "kernel": "Python3",
    "tags": [
     "report_cell"
    ]
   },
   "outputs": [],
   "source": [
    "# I have to debug this function\n",
    "# def boot_fn(data, num_iterations):\n",
    "#     bootstrap_se = np.ndarray((num_iterations, len(model_glm.params)))\n",
    "#     for i in range(num_iterations):\n",
    "#         # Bootstrap sampling with replacement\n",
    "#         bootstrap_sample = data.sample(frac=0.5, replace=True)\n",
    "        \n",
    "#         X = bootstrap_sample[['income', 'balance']]\n",
    "#         y = bootstrap_sample['defaultInt']\n",
    "        \n",
    "#         X_cons = sm.add_constant(X)\n",
    "        \n",
    "#         bs_fit = sm.GLM(y, X_cons, family=sm.families.Binomial())\n",
    "        \n",
    "#         # Store coefficients\n",
    "#         bootstrap_se[i] = bs_fit.bse\n",
    "    \n",
    "#     return pd.DataFrame(bootstrap_se)\n",
    "\n",
    "# # Call the function\n",
    "# bootstrap_se = boot_fn(Default, 1000)\n",
    "\n",
    "# bootstrap_avg_se = bootstrap_se.mean()\n",
    "\n",
    "# print(\"Mean se estimates for income and balance:\")\n",
    "# print(bootstrap_avg_se)\n"
   ]
  },
  {
   "cell_type": "code",
   "execution_count": 32,
   "id": "58c7a42a",
   "metadata": {},
   "outputs": [],
   "source": [
    "# boot_fn(Default, index = range(len(Default)), out_params = 'se')"
   ]
  },
  {
   "cell_type": "markdown",
   "id": "d2d9f690",
   "metadata": {},
   "source": [
    "Your answer:\n",
    "\n",
    "~~~\n",
    "Please write your answer in full sentences.\n",
    "\n",
    "\n",
    "~~~\n",
    "\n",
    "(c) Following the bootstrap example in the lab, use your `boot_fn()`\n",
    "function to estimate the standard errors of the logistic regression\n",
    "coefficients for income and balance.\n",
    "\n",
    "\n",
    "Your code:"
   ]
  },
  {
   "cell_type": "code",
   "execution_count": 33,
   "id": "771a1fca",
   "metadata": {
    "Rmd_chunk_options": "echo=TRUE",
    "kernel": "Python3",
    "tags": [
     "report_cell"
    ]
   },
   "outputs": [],
   "source": [
    "#\n",
    "#"
   ]
  },
  {
   "cell_type": "markdown",
   "id": "8b9f2e13",
   "metadata": {},
   "source": [
    "Your answer:\n",
    "\n",
    "~~~\n",
    "Please write your answer in full sentences.\n",
    "\n",
    "\n",
    "~~~\n",
    "\n",
    "\n",
    "(d) Comment on the estimated standard errors obtained using the `sm.GLM()` function and using the bootstrap.\n",
    "\n",
    "Your answer:\n",
    "\n",
    "~~~\n",
    "Please write your answer in full sentences.\n",
    "\n",
    "SE from bootstrap is wider than that from GLM() function. This is reasonable becauase bootstrap methos is more robust.\n",
    "~~~"
   ]
  },
  {
   "cell_type": "markdown",
   "id": "d8e99194",
   "metadata": {},
   "source": [
    "### Boston housing data set\n",
    "\n",
    "We will now consider the Boston housing data set, from the ISLR library."
   ]
  },
  {
   "cell_type": "code",
   "execution_count": 34,
   "id": "3e0c713d",
   "metadata": {
    "kernel": "Python3",
    "tags": [
     "report_cell"
    ]
   },
   "outputs": [],
   "source": [
    "Boston = load_data(\"Boston\")"
   ]
  },
  {
   "cell_type": "markdown",
   "id": "3478a17a",
   "metadata": {},
   "source": [
    "(a) Based on this data set, provide an estimate for the population mean of medv. Call this estimate $\\hat{\\mu}$.\n",
    "\n",
    "Your code:"
   ]
  },
  {
   "cell_type": "code",
   "execution_count": 35,
   "id": "7ac30b1b",
   "metadata": {
    "Rmd_chunk_options": "echo=TRUE",
    "kernel": "Python3",
    "tags": [
     "report_cell"
    ]
   },
   "outputs": [
    {
     "data": {
      "text/plain": [
       "22.532806324110677"
      ]
     },
     "execution_count": 35,
     "metadata": {},
     "output_type": "execute_result"
    }
   ],
   "source": [
    "Boston.medv.mean()"
   ]
  },
  {
   "cell_type": "markdown",
   "id": "8c227ec3",
   "metadata": {},
   "source": [
    "Your answer:\n",
    "\n",
    "~~~\n",
    "Please write your answer in full sentences.\n",
    "\n",
    "\n",
    "~~~\n",
    "\n",
    "\n",
    "(b) Provide an estimate of the standard error of $\\hat{\\mu}$. Interpret this result.\n",
    "Hint: We can compute the standard error of the sample mean by dividing the sample standard deviation by the square root of the number of observations.\n",
    "\n",
    "Your code:"
   ]
  },
  {
   "cell_type": "code",
   "execution_count": 36,
   "id": "1caaf8fc",
   "metadata": {
    "Rmd_chunk_options": "echo=TRUE",
    "kernel": "Python3",
    "tags": [
     "report_cell"
    ]
   },
   "outputs": [
    {
     "data": {
      "text/plain": [
       "0.4088611474975351"
      ]
     },
     "execution_count": 36,
     "metadata": {},
     "output_type": "execute_result"
    }
   ],
   "source": [
    "medv_se = Boston.medv.std()/np.sqrt(len(Boston.medv))\n",
    "medv_se"
   ]
  },
  {
   "cell_type": "markdown",
   "id": "3446e733",
   "metadata": {},
   "source": [
    "Your answer:\n",
    "\n",
    "~~~\n",
    "Please write your answer in full sentences.\n",
    "\n",
    "\n",
    "~~~\n",
    "\n",
    "\n",
    "(c) Now estimate the standard error of $\\hat{\\mu}$ using the bootstrap. How does this compare to your answer from (b)?\n",
    "\n",
    "Your code:"
   ]
  },
  {
   "cell_type": "code",
   "execution_count": 37,
   "id": "0c0a9cbf",
   "metadata": {
    "Rmd_chunk_options": "echo=TRUE",
    "kernel": "Python3",
    "tags": [
     "report_cell"
    ]
   },
   "outputs": [
    {
     "name": "stdout",
     "output_type": "stream",
     "text": [
      "0.42063030258794354\n"
     ]
    }
   ],
   "source": [
    "n = 1000 \n",
    "bootstrap_means = []  \n",
    "\n",
    "for i in range(n):\n",
    "    sample = Boston.medv.sample(n=len(Boston.medv), replace=True)\n",
    "    \n",
    "    bootstrap_means.append(sample.mean())\n",
    "\n",
    "bootstrap_se = np.std(bootstrap_means)\n",
    "\n",
    "print(bootstrap_se)"
   ]
  },
  {
   "cell_type": "markdown",
   "id": "4bf56fb8",
   "metadata": {},
   "source": [
    "Your answer:\n",
    "\n",
    "~~~\n",
    "Please write your answer in full sentences.\n",
    "\n",
    "The se of medv from bootstrap is a bit wider than that from (b).\n",
    "~~~\n",
    "\n",
    "(d) Based on your bootstrap estimate from (c), provide a 95 % confidence\n",
    "interval for the mean of medv. Compare it to the results\n",
    "obtained by using `Boston['medv'].std()` and the two standard\n",
    "error rule (3.9).\n",
    "Hint: You can approximate a 95% confidence interval using the formula $[\\hat{\\mu} − 2SE(\\hat{\\mu}), \\hat{\\mu} + 2SE(\\hat{\\mu})]$.\n",
    "\n",
    "Your code:"
   ]
  },
  {
   "cell_type": "code",
   "execution_count": 38,
   "id": "59be24cc",
   "metadata": {
    "Rmd_chunk_options": "echo=TRUE",
    "kernel": "Python3",
    "tags": [
     "report_cell"
    ]
   },
   "outputs": [
    {
     "name": "stdout",
     "output_type": "stream",
     "text": [
      "95% Confidence Interval (Bootstrap): [21.69, 23.37]\n",
      "95% Confidence Interval (Two Standard Error Rule): [21.72, 23.35]\n"
     ]
    }
   ],
   "source": [
    "# Calculate the mean of 'medv' using bootstrap estimate\n",
    "bootstrap_mean = np.mean(bootstrap_means)\n",
    "\n",
    "# Calculate the 95% confidence interval\n",
    "lower_bound = bootstrap_mean - 2 * bootstrap_se\n",
    "upper_bound = bootstrap_mean + 2 * bootstrap_se\n",
    "\n",
    "print(\"95% Confidence Interval (Bootstrap): [{:.2f}, {:.2f}]\".format(lower_bound, upper_bound))\n",
    "\n",
    "# Calculate standard deviation of 'medv' using the entire dataset\n",
    "std_medv = Boston['medv'].std()\n",
    "\n",
    "# Calculate 95% confidence interval using the two standard error rule\n",
    "lower_bound_2se = Boston.medv.mean() - 2 * medv_se\n",
    "upper_bound_2se = Boston.medv.mean() + 2 * medv_se\n",
    "\n",
    "print(\"95% Confidence Interval (Two Standard Error Rule): [{:.2f}, {:.2f}]\".format(lower_bound_2se, upper_bound_2se))"
   ]
  },
  {
   "cell_type": "markdown",
   "id": "d16a99c5",
   "metadata": {},
   "source": [
    "Your answer:\n",
    "\n",
    "~~~\n",
    "Please write your answer in full sentences.\n",
    "\n",
    "95% CI from bootstrap is a bit wider than that from the formula above.\n",
    "~~~\n",
    "\n",
    "\n",
    "(e) Based on this data set, provide an estimate, $\\hat{\\mu}_{med}$, for the median value of medv in the population.\n",
    "\n",
    "Your code:"
   ]
  },
  {
   "cell_type": "code",
   "execution_count": 39,
   "id": "ce645b44",
   "metadata": {
    "Rmd_chunk_options": "echo=TRUE",
    "kernel": "Python3",
    "tags": [
     "report_cell"
    ]
   },
   "outputs": [
    {
     "data": {
      "text/plain": [
       "21.2"
      ]
     },
     "execution_count": 39,
     "metadata": {},
     "output_type": "execute_result"
    }
   ],
   "source": [
    "Boston['medv'].median()"
   ]
  },
  {
   "cell_type": "markdown",
   "id": "927aa002",
   "metadata": {},
   "source": [
    "Your answer:\n",
    "\n",
    "~~~\n",
    "Please write your answer in full sentences.\n",
    "\n",
    "\n",
    "~~~\n",
    "\n",
    "\n",
    "(f) We now would like to estimate the standard error of $\\hat{\\mu}_{med}$. Unfortunately, there is no simple formula for computing the standard error of the median. Instead, estimate the standard error of the median using the bootstrap. Comment on your findings.\n",
    "\n",
    "Your code:"
   ]
  },
  {
   "cell_type": "code",
   "execution_count": 40,
   "id": "0221e97a",
   "metadata": {
    "Rmd_chunk_options": "echo=TRUE",
    "kernel": "Python3",
    "tags": [
     "report_cell"
    ]
   },
   "outputs": [
    {
     "name": "stdout",
     "output_type": "stream",
     "text": [
      "0.3889785308985571\n"
     ]
    }
   ],
   "source": [
    "n = 1000 \n",
    "bootstrap_medians = []  \n",
    "\n",
    "for i in range(n):\n",
    "    sample = Boston.medv.sample(n=len(Boston.medv), replace=True)\n",
    "    \n",
    "    bootstrap_medians.append(sample.median())\n",
    "\n",
    "bootstrap_med_se = np.std(bootstrap_medians)\n",
    "\n",
    "print(bootstrap_med_se)"
   ]
  },
  {
   "cell_type": "markdown",
   "id": "3f90e963",
   "metadata": {},
   "source": [
    "Your answer:\n",
    "\n",
    "~~~\n",
    "Please write your answer in full sentences.\n",
    "\n",
    "\n",
    "~~~\n",
    "\n",
    "\n",
    "\n",
    "(g) Based on this data set, provide an estimate for the tenth percentile\n",
    "of medv in Boston census tracts. Call this quantity $\\hat{\\mu}_{0.1}$.\n",
    "(You can use the `np.percentile()` function.)\n",
    "\n",
    "Your code:"
   ]
  },
  {
   "cell_type": "code",
   "execution_count": 41,
   "id": "dca83bcb",
   "metadata": {
    "Rmd_chunk_options": "echo=TRUE",
    "kernel": "Python3",
    "tags": [
     "report_cell"
    ]
   },
   "outputs": [
    {
     "data": {
      "text/plain": [
       "array([12.75])"
      ]
     },
     "execution_count": 41,
     "metadata": {},
     "output_type": "execute_result"
    }
   ],
   "source": [
    "np.percentile(Boston['medv'], [10])"
   ]
  },
  {
   "cell_type": "markdown",
   "id": "3a298b56",
   "metadata": {},
   "source": [
    "Your answer:\n",
    "\n",
    "~~~\n",
    "Please write your answer in full sentences.\n",
    "\n",
    "\n",
    "~~~\n",
    "\n",
    "\n",
    "(h) Use the bootstrap to estimate the standard error of $\\hat{\\mu}_{0.1}$. Comment on your findings.\n",
    "\n",
    "Your code:"
   ]
  },
  {
   "cell_type": "code",
   "execution_count": 42,
   "id": "56248d00",
   "metadata": {
    "Rmd_chunk_options": "echo=TRUE",
    "kernel": "Python3",
    "tags": [
     "report_cell"
    ]
   },
   "outputs": [
    {
     "data": {
      "text/plain": [
       "array([20.6])"
      ]
     },
     "execution_count": 42,
     "metadata": {},
     "output_type": "execute_result"
    }
   ],
   "source": [
    "np.percentile(bootstrap_medians, [10])"
   ]
  },
  {
   "cell_type": "markdown",
   "id": "1f070ead",
   "metadata": {},
   "source": [
    "Your answer:\n",
    "\n",
    "~~~\n",
    "Please write your answer in full sentences.\n",
    "\n",
    "\n",
    "~~~"
   ]
  },
  {
   "cell_type": "markdown",
   "id": "8f8173b4",
   "metadata": {},
   "source": [
    "## Additional Material"
   ]
  },
  {
   "cell_type": "markdown",
   "id": "8a6174ae",
   "metadata": {},
   "source": [
    "### Cross Validation for Predictive Modeling Platforms in Python"
   ]
  },
  {
   "cell_type": "markdown",
   "id": "fcfdcf96",
   "metadata": {},
   "source": [
    "#### scikit-learn\n",
    "\n",
    "Using platforms like scikit-learn is helpful for things such as cross validation.\n",
    "There are variants of CV implemented to be used off the shelf\n",
    "https://scikit-learn.org/stable/modules/cross_validation.html\n",
    "\n",
    "There are many metrics you can choose from\n",
    "https://scikit-learn.org/stable/modules/model_evaluation.html#scoring-parameter"
   ]
  },
  {
   "cell_type": "code",
   "execution_count": 43,
   "id": "753aa0f5",
   "metadata": {
    "Rmd_chunk_options": "echo=TRUE",
    "kernel": "Python3",
    "tags": [
     "report_cell"
    ]
   },
   "outputs": [],
   "source": [
    "ames_raw_comp=ames_raw.loc[:,[\"SalePrice\",\"Gr Liv Area\",\"Lot Area\",\"Total Bsmt SF\"]].dropna()\n",
    "X=ames_raw_comp.loc[:,[\"Gr Liv Area\",\"Lot Area\",\"Total Bsmt SF\"]]\n",
    "y=ames_raw_comp.loc[:,\"SalePrice\"]\n",
    "from sklearn.model_selection import cross_val_score, cross_validate\n",
    "from sklearn import svm\n",
    "from sklearn.linear_model import LinearRegression\n",
    "clf =  LinearRegression()\n",
    "## One metric\n",
    "scores = cross_val_score(clf, X, y, cv=5,scoring=\"r2\")\n",
    "## Multiple metrics\n",
    "scoring = ['r2', 'max_error']\n",
    "scores = cross_validate(clf, X, y, scoring=scoring)"
   ]
  },
  {
   "cell_type": "markdown",
   "id": "e01a97f2",
   "metadata": {},
   "source": [
    "#### PySpark\n",
    "\n",
    "[Apache Spark](https://spark.apache.org/docs/3.1.3/api/python/index.html) is a popular large data handling platform.  Over the years, they built Machine Learning capabilities in MLlib."
   ]
  },
  {
   "cell_type": "code",
   "execution_count": 44,
   "id": "ec5ea774",
   "metadata": {
    "Rmd_chunk_options": "eval=FALSE, echo=TRUE",
    "kernel": "Python3",
    "tags": [
     "report_cell"
    ]
   },
   "outputs": [],
   "source": [
    "import pyspark\n",
    "from pyspark.sql import SparkSession\n",
    "from pyspark.ml.classification import LogisticRegression\n",
    "from pyspark.ml.evaluation import BinaryClassificationEvaluator\n",
    "from pyspark.ml.linalg import Vectors\n",
    "from pyspark.ml.tuning import CrossValidator, ParamGridBuilder, CrossValidatorModel\n",
    "import tempfile"
   ]
  },
  {
   "cell_type": "code",
   "execution_count": 45,
   "id": "77e1579c",
   "metadata": {
    "Rmd_chunk_options": "eval=FALSE, echo=TRUE",
    "kernel": "Python3",
    "tags": [
     "report_cell"
    ]
   },
   "outputs": [
    {
     "name": "stderr",
     "output_type": "stream",
     "text": [
      "Setting default log level to \"WARN\".\n",
      "To adjust logging level use sc.setLogLevel(newLevel). For SparkR, use setLogLevel(newLevel).\n",
      "24/02/18 10:00:38 WARN NativeCodeLoader: Unable to load native-hadoop library for your platform... using builtin-java classes where applicable\n"
     ]
    }
   ],
   "source": [
    "spark = SparkSession.builder.appName(\"CV_test\").getOrCreate()"
   ]
  },
  {
   "cell_type": "code",
   "execution_count": 46,
   "id": "80457b98",
   "metadata": {
    "Rmd_chunk_options": "eval=FALSE, echo=TRUE",
    "kernel": "Python3",
    "tags": [
     "report_cell"
    ]
   },
   "outputs": [
    {
     "name": "stderr",
     "output_type": "stream",
     "text": [
      "24/02/18 10:00:43 WARN InstanceBuilder: Failed to load implementation from:dev.ludovic.netlib.blas.JNIBLAS\n",
      "Java HotSpot(TM) 64-Bit Server VM warning: CodeCache is full. Compiler has been disabled.\n",
      "Java HotSpot(TM) 64-Bit Server VM warning: Try increasing the code cache size using -XX:ReservedCodeCacheSize=\n"
     ]
    },
    {
     "name": "stdout",
     "output_type": "stream",
     "text": [
      "CodeCache: size=131072Kb used=34911Kb max_used=34930Kb free=96161Kb\n",
      " bounds [0x00000001091e0000, 0x000000010b430000, 0x00000001111e0000]\n",
      " total_blobs=13607 nmethods=12492 adapters=1027\n",
      " compilation: disabled (not enough contiguous free space left)\n"
     ]
    },
    {
     "data": {
      "text/plain": [
       "0.8333333333333333"
      ]
     },
     "execution_count": 46,
     "metadata": {},
     "output_type": "execute_result"
    }
   ],
   "source": [
    "dataset = spark.createDataFrame(\n",
    "    [(Vectors.dense([0.0]), 0.0),\n",
    "     (Vectors.dense([0.4]), 1.0),\n",
    "     (Vectors.dense([0.5]), 0.0),\n",
    "     (Vectors.dense([0.6]), 1.0),\n",
    "     (Vectors.dense([1.0]), 1.0)] * 10,\n",
    "    [\"features\", \"label\"])\n",
    "lr = LogisticRegression()\n",
    "grid = ParamGridBuilder().addGrid(lr.maxIter, [0, 1]).build()\n",
    "evaluator = BinaryClassificationEvaluator()\n",
    "cv = CrossValidator(estimator=lr, estimatorParamMaps=grid, evaluator=evaluator,\n",
    "    parallelism=2)\n",
    "cvModel = cv.fit(dataset)\n",
    "cvModel.getNumFolds()\n",
    "cvModel.avgMetrics[0]\n",
    "evaluator.evaluate(cvModel.transform(dataset))"
   ]
  },
  {
   "cell_type": "code",
   "execution_count": 47,
   "id": "0b8bf62f",
   "metadata": {
    "Rmd_chunk_options": "eval=FALSE, echo=TRUE",
    "kernel": "Python3",
    "tags": [
     "report_cell"
    ]
   },
   "outputs": [],
   "source": [
    "spark.stop()"
   ]
  },
  {
   "cell_type": "markdown",
   "id": "bc5ae714",
   "metadata": {},
   "source": [
    "#### Resampling  using h2o\n",
    "\n",
    "On H2O cross validation is embedded in the function calling so you don't need to worry about learning a new wrapper on top of your estimator.\n",
    "https://docs.h2o.ai/h2o/latest-stable/h2o-docs/cross-validation.html"
   ]
  },
  {
   "cell_type": "code",
   "execution_count": 48,
   "id": "23d989a8",
   "metadata": {
    "Rmd_chunk_options": "eval=FALSE, echo=TRUE",
    "kernel": "Python3",
    "tags": [
     "report_cell"
    ]
   },
   "outputs": [],
   "source": [
    "#pip install requests\n",
    "#pip install tabulate\n",
    "#pip uninstall h2o\n",
    "#pip install -f http://h2o-release.s3.amazonaws.com/h2o/latest_stable_Py.html h2o\n",
    "# load packages and data\n",
    "import h2o\n",
    "from h2o.estimators.glm import H2OGeneralizedLinearEstimator"
   ]
  },
  {
   "cell_type": "markdown",
   "id": "6f467085",
   "metadata": {},
   "source": [
    "##### Starting H2O\n",
    "\n",
    "To use H2O you need to instantiate it."
   ]
  },
  {
   "cell_type": "code",
   "execution_count": 49,
   "id": "3145b8ef",
   "metadata": {
    "Rmd_chunk_options": "eval=FALSE, echo=TRUE",
    "kernel": "Python3",
    "tags": [
     "report_cell"
    ]
   },
   "outputs": [
    {
     "name": "stdout",
     "output_type": "stream",
     "text": [
      "Checking whether there is an H2O instance running at http://localhost:54321..... not found.\n",
      "Attempting to start a local H2O server...\n",
      "  Java Version: java version \"1.8.0_401\"; Java(TM) SE Runtime Environment (build 1.8.0_401-b10); Java HotSpot(TM) 64-Bit Server VM (build 25.401-b10, mixed mode)\n",
      "  Starting server from /Users/yutatsukumo/anaconda3/lib/python3.11/site-packages/h2o/backend/bin/h2o.jar\n",
      "  Ice root: /var/folders/zx/tjnnhhbx01x_b6njsk8c9p4c0000gp/T/tmpdmwr49__\n",
      "  JVM stdout: /var/folders/zx/tjnnhhbx01x_b6njsk8c9p4c0000gp/T/tmpdmwr49__/h2o_yutatsukumo_started_from_python.out\n",
      "  JVM stderr: /var/folders/zx/tjnnhhbx01x_b6njsk8c9p4c0000gp/T/tmpdmwr49__/h2o_yutatsukumo_started_from_python.err\n",
      "  Server is running at http://127.0.0.1:54321\n",
      "Connecting to H2O server at http://127.0.0.1:54321 ... successful.\n"
     ]
    },
    {
     "data": {
      "text/html": [
       "\n",
       "<style>\n",
       "\n",
       "#h2o-table-1.h2o-container {\n",
       "  overflow-x: auto;\n",
       "}\n",
       "#h2o-table-1 .h2o-table {\n",
       "  /* width: 100%; */\n",
       "  margin-top: 1em;\n",
       "  margin-bottom: 1em;\n",
       "}\n",
       "#h2o-table-1 .h2o-table caption {\n",
       "  white-space: nowrap;\n",
       "  caption-side: top;\n",
       "  text-align: left;\n",
       "  /* margin-left: 1em; */\n",
       "  margin: 0;\n",
       "  font-size: larger;\n",
       "}\n",
       "#h2o-table-1 .h2o-table thead {\n",
       "  white-space: nowrap; \n",
       "  position: sticky;\n",
       "  top: 0;\n",
       "  box-shadow: 0 -1px inset;\n",
       "}\n",
       "#h2o-table-1 .h2o-table tbody {\n",
       "  overflow: auto;\n",
       "}\n",
       "#h2o-table-1 .h2o-table th,\n",
       "#h2o-table-1 .h2o-table td {\n",
       "  text-align: right;\n",
       "  /* border: 1px solid; */\n",
       "}\n",
       "#h2o-table-1 .h2o-table tr:nth-child(even) {\n",
       "  /* background: #F5F5F5 */\n",
       "}\n",
       "\n",
       "</style>      \n",
       "<div id=\"h2o-table-1\" class=\"h2o-container\">\n",
       "  <table class=\"h2o-table\">\n",
       "    <caption></caption>\n",
       "    <thead></thead>\n",
       "    <tbody><tr><td>H2O_cluster_uptime:</td>\n",
       "<td>01 secs</td></tr>\n",
       "<tr><td>H2O_cluster_timezone:</td>\n",
       "<td>America/New_York</td></tr>\n",
       "<tr><td>H2O_data_parsing_timezone:</td>\n",
       "<td>UTC</td></tr>\n",
       "<tr><td>H2O_cluster_version:</td>\n",
       "<td>3.44.0.3</td></tr>\n",
       "<tr><td>H2O_cluster_version_age:</td>\n",
       "<td>1 month and 28 days</td></tr>\n",
       "<tr><td>H2O_cluster_name:</td>\n",
       "<td>H2O_from_python_yutatsukumo_1bk15i</td></tr>\n",
       "<tr><td>H2O_cluster_total_nodes:</td>\n",
       "<td>1</td></tr>\n",
       "<tr><td>H2O_cluster_free_memory:</td>\n",
       "<td>3.541 Gb</td></tr>\n",
       "<tr><td>H2O_cluster_total_cores:</td>\n",
       "<td>8</td></tr>\n",
       "<tr><td>H2O_cluster_allowed_cores:</td>\n",
       "<td>8</td></tr>\n",
       "<tr><td>H2O_cluster_status:</td>\n",
       "<td>locked, healthy</td></tr>\n",
       "<tr><td>H2O_connection_url:</td>\n",
       "<td>http://127.0.0.1:54321</td></tr>\n",
       "<tr><td>H2O_connection_proxy:</td>\n",
       "<td>{\"http\": null, \"https\": null}</td></tr>\n",
       "<tr><td>H2O_internal_security:</td>\n",
       "<td>False</td></tr>\n",
       "<tr><td>Python_version:</td>\n",
       "<td>3.11.5 final</td></tr></tbody>\n",
       "  </table>\n",
       "</div>\n"
      ],
      "text/plain": [
       "--------------------------  ----------------------------------\n",
       "H2O_cluster_uptime:         01 secs\n",
       "H2O_cluster_timezone:       America/New_York\n",
       "H2O_data_parsing_timezone:  UTC\n",
       "H2O_cluster_version:        3.44.0.3\n",
       "H2O_cluster_version_age:    1 month and 28 days\n",
       "H2O_cluster_name:           H2O_from_python_yutatsukumo_1bk15i\n",
       "H2O_cluster_total_nodes:    1\n",
       "H2O_cluster_free_memory:    3.541 Gb\n",
       "H2O_cluster_total_cores:    8\n",
       "H2O_cluster_allowed_cores:  8\n",
       "H2O_cluster_status:         locked, healthy\n",
       "H2O_connection_url:         http://127.0.0.1:54321\n",
       "H2O_connection_proxy:       {\"http\": null, \"https\": null}\n",
       "H2O_internal_security:      False\n",
       "Python_version:             3.11.5 final\n",
       "--------------------------  ----------------------------------"
      ]
     },
     "metadata": {},
     "output_type": "display_data"
    }
   ],
   "source": [
    "# nthreads specifies number of threads. -1 means use all the CPU cores.\n",
    "# max_mem_size specifies the maximum amount of RAM to use.\n",
    "localH2O= h2o.init(nthreads = -1, max_mem_size=\"4g\")"
   ]
  },
  {
   "cell_type": "markdown",
   "id": "b1b35a63",
   "metadata": {},
   "source": [
    "##### CV with  H2O"
   ]
  },
  {
   "cell_type": "code",
   "execution_count": 50,
   "id": "70d69efa",
   "metadata": {
    "Rmd_chunk_options": "eval=FALSE, echo=TRUE",
    "kernel": "Python3",
    "tags": [
     "report_cell"
    ]
   },
   "outputs": [
    {
     "name": "stdout",
     "output_type": "stream",
     "text": [
      "Parse progress: |████████████████████████████████████████████████████████████████| (done) 100%\n",
      "glm Model Build progress: |██████████████████████████████████████████████████████| (done) 100%\n"
     ]
    },
    {
     "data": {
      "text/plain": [
       "0.7790697716207187"
      ]
     },
     "execution_count": 50,
     "metadata": {},
     "output_type": "execute_result"
    }
   ],
   "source": [
    "# Import the prostate dataset\n",
    "prostate = h2o.import_file(\"http://s3.amazonaws.com/h2o-public-test-data/smalldata/prostate/prostate.csv.zip\")\n",
    "\n",
    "# Set the predictor names and the response column name\n",
    "response = \"CAPSULE\"\n",
    "predictors = prostate.names[3:8]\n",
    "\n",
    "# Convert the response column to a factor\n",
    "prostate['CAPSULE'] = prostate['CAPSULE'].asfactor()\n",
    "\n",
    "# Train a GBM model setting nfolds to 5\n",
    "prostate_gbm = H2OGeneralizedLinearEstimator(nfolds = 5, seed = 1)\n",
    "prostate_gbm.train(x=predictors, y=response, training_frame=prostate)\n",
    "\n",
    "# AUC of cross-validated holdout predictions\n",
    "prostate_gbm.auc(xval=True)"
   ]
  },
  {
   "cell_type": "markdown",
   "id": "0515ba8c",
   "metadata": {},
   "source": [
    "##### Shut down H2O"
   ]
  },
  {
   "cell_type": "code",
   "execution_count": 51,
   "id": "83132202",
   "metadata": {
    "Rmd_chunk_options": "eval=FALSE, echo=TRUE",
    "kernel": "Python3",
    "tags": [
     "report_cell"
    ]
   },
   "outputs": [
    {
     "name": "stdout",
     "output_type": "stream",
     "text": [
      "H2O session _sid_a53c closed.\n"
     ]
    }
   ],
   "source": [
    "h2o.cluster().shutdown(prompt =False)"
   ]
  }
 ],
 "metadata": {
  "Rmd_chunk_options": {
   "author": "Your Name Here",
   "date": "2024-1-30",
   "output": "html_document",
   "title": "Resampling"
  },
  "kernelspec": {
   "display_name": "Python 3 (ipykernel)",
   "language": "python",
   "name": "python3"
  },
  "language_info": {
   "codemirror_mode": {
    "name": "ipython",
    "version": 3
   },
   "file_extension": ".py",
   "mimetype": "text/x-python",
   "name": "python",
   "nbconvert_exporter": "python",
   "pygments_lexer": "ipython3",
   "version": "3.11.5"
  },
  "sos": {
   "kernels": [
    [
     "SoS",
     "sos",
     "",
     ""
    ],
    [
     "R",
     "ir",
     "",
     ""
    ],
    [
     "css",
     "css",
     "",
     ""
    ],
    [
     "Python3",
     "ir",
     "",
     ""
    ]
   ]
  }
 },
 "nbformat": 4,
 "nbformat_minor": 5
}
