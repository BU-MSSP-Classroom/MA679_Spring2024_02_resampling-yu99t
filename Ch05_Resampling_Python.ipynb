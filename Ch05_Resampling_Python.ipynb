{
 "cells": [
  {
   "cell_type": "markdown",
   "id": "ac385101",
   "metadata": {},
   "source": [
    "# Class Workbook"
   ]
  },
  {
   "cell_type": "markdown",
   "id": "7d865134",
   "metadata": {},
   "source": [
    "## In class activity"
   ]
  },
  {
   "cell_type": "code",
   "execution_count": 162,
   "id": "194cc60b",
   "metadata": {
    "kernel": "Python3",
    "tags": [
     "report_cell"
    ]
   },
   "outputs": [],
   "source": [
    "import numpy as np\n",
    "import pandas as pd\n",
    "import math\n",
    "import statsmodels.api as sm1\n",
    "from plotnine import *\n",
    "import statsmodels.formula.api as sm\n",
    "from ISLP import load_data\n",
    "from ISLP.models import (ModelSpec as MS,\n",
    "                        summarize ,\n",
    "                        poly)\n",
    "from sklearn.base import clone\n",
    "from functools import partial\n",
    "from ISLP.models import sklearn_sm\n",
    "from sklearn.model_selection import \\\n",
    "     (cross_validate,\n",
    "      KFold,\n",
    "      ShuffleSplit)"
   ]
  },
  {
   "cell_type": "markdown",
   "id": "d786799d",
   "metadata": {},
   "source": [
    "### Ames House Data"
   ]
  },
  {
   "cell_type": "code",
   "execution_count": 163,
   "id": "e1f933c5",
   "metadata": {
    "kernel": "Python3",
    "tags": [
     "report_cell"
    ]
   },
   "outputs": [],
   "source": [
    "ames_raw=pd.read_csv(\"ames_raw.csv\")\n",
    "\n",
    "ames_raw['SalePricelog'] = np.log(ames_raw['SalePrice'])"
   ]
  },
  {
   "cell_type": "markdown",
   "id": "837bd901",
   "metadata": {},
   "source": [
    "Let's revisit the AmesHousing data.  As we did in the previous class, I will split the data into before 2008 and after.  The data up to 2008 will be the training data and after 2008 will be the testing data."
   ]
  },
  {
   "cell_type": "code",
   "execution_count": 164,
   "id": "67c2a208",
   "metadata": {
    "kernel": "Python3",
    "tags": [
     "report_cell"
    ]
   },
   "outputs": [],
   "source": [
    "ames_raw_2009, ames_raw_2008= ames_raw.query('`Yr Sold`>=2008').copy(), ames_raw.query('`Yr Sold` <2008').copy()"
   ]
  },
  {
   "cell_type": "markdown",
   "id": "ae8516aa",
   "metadata": {},
   "source": [
    "* For the regression model fit, use bootstrap to compare the standard error estimates to the model based estimates.\n",
    "\n",
    "Your code:"
   ]
  },
  {
   "cell_type": "code",
   "execution_count": 165,
   "id": "5f2fafbb",
   "metadata": {
    "Rmd_chunk_options": "echo=TRUE",
    "kernel": "Python3",
    "tags": [
     "report_cell"
    ]
   },
   "outputs": [
    {
     "name": "stdout",
     "output_type": "stream",
     "text": [
      "Order                 0\n",
      "PID                   0\n",
      "MS SubClass           0\n",
      "MS Zoning             0\n",
      "Lot Frontage        213\n",
      "Lot Area              0\n",
      "Street                0\n",
      "Alley              1235\n",
      "Lot Shape             0\n",
      "Land Contour          0\n",
      "Utilities             0\n",
      "Lot Config            0\n",
      "Land Slope            0\n",
      "Neighborhood          0\n",
      "Condition 1           0\n",
      "Condition 2           0\n",
      "Bldg Type             0\n",
      "House Style           0\n",
      "Overall Qual          0\n",
      "Overall Cond          0\n",
      "Year Built            0\n",
      "Year Remod/Add        0\n",
      "Roof Style            0\n",
      "Roof Matl             0\n",
      "Exterior 1st          0\n",
      "Exterior 2nd          0\n",
      "Mas Vnr Type         12\n",
      "Mas Vnr Area         12\n",
      "Exter Qual            0\n",
      "Exter Cond            0\n",
      "Foundation            0\n",
      "Bsmt Qual            33\n",
      "Bsmt Cond            33\n",
      "Bsmt Exposure        35\n",
      "BsmtFin Type 1       33\n",
      "BsmtFin SF 1          0\n",
      "BsmtFin Type 2       33\n",
      "BsmtFin SF 2          0\n",
      "Bsmt Unf SF           0\n",
      "Total Bsmt SF         0\n",
      "Heating               0\n",
      "Heating QC            0\n",
      "Central Air           0\n",
      "Electrical            0\n",
      "1st Flr SF            0\n",
      "2nd Flr SF            0\n",
      "Low Qual Fin SF       0\n",
      "Gr Liv Area           0\n",
      "Bsmt Full Bath        0\n",
      "Bsmt Half Bath        0\n",
      "Full Bath             0\n",
      "Half Bath             0\n",
      "Bedroom AbvGr         0\n",
      "Kitchen AbvGr         0\n",
      "Kitchen Qual          0\n",
      "TotRms AbvGrd         0\n",
      "Functional            0\n",
      "Fireplaces            0\n",
      "Fireplace Qu        622\n",
      "Garage Type          64\n",
      "Garage Yr Blt        65\n",
      "Garage Finish        65\n",
      "Garage Cars           1\n",
      "Garage Area           1\n",
      "Garage Qual          65\n",
      "Garage Cond          65\n",
      "Paved Drive           0\n",
      "Wood Deck SF          0\n",
      "Open Porch SF         0\n",
      "Enclosed Porch        0\n",
      "3Ssn Porch            0\n",
      "Screen Porch          0\n",
      "Pool Area             0\n",
      "Pool QC            1309\n",
      "Fence              1070\n",
      "Misc Feature       1280\n",
      "Misc Val              0\n",
      "Mo Sold               0\n",
      "Yr Sold               0\n",
      "Sale Type             0\n",
      "Sale Condition        0\n",
      "SalePrice             0\n",
      "SalePricelog          0\n",
      "dtype: int64\n"
     ]
    }
   ],
   "source": [
    "ames_raw_2008\n",
    "\n",
    "pd.set_option('display.max_rows', None)\n",
    "print(ames_raw_2008.isnull().sum())\n",
    "\n",
    "# The follwing variables have lots of NA\n",
    "# Lot Frontage        213\n",
    "# Alley              1235\n",
    "# Fireplace Qu        622\n",
    "# Pool QC            1309\n",
    "# Fence              1070\n",
    "# Misc Feature       1280\n",
    "\n",
    "pd.reset_option('display.max_rows')"
   ]
  },
  {
   "cell_type": "code",
   "execution_count": 166,
   "id": "e9b8f329",
   "metadata": {},
   "outputs": [],
   "source": [
    "pd.reset_option('display.max_rows')"
   ]
  },
  {
   "cell_type": "code",
   "execution_count": 167,
   "id": "2e44e857",
   "metadata": {},
   "outputs": [],
   "source": [
    "# remove variables with lots of missing variables\n",
    "columns_to_exclude = ['Lot Frontage', 'Alley', 'Fireplace Qu', 'Pool QC', 'Fence', 'Misc Feature']\n",
    "ames_raw_2008_sub = ames_raw_2008.drop(columns=columns_to_exclude)\n",
    "\n",
    "# remove missing values from the sub data set\n",
    "ames_raw_2008_sub.dropna(inplace=True)\n",
    "np.shape(ames_raw_2008_sub)\n",
    "\n",
    "# check typs of each variable\n",
    "ames_raw_2008_sub.dtypes \n",
    "\n",
    "# transform object class to category to create dummy variable using MS class\n",
    "object_columns = ames_raw_2008_sub.select_dtypes(include='object').columns\n",
    "ames_raw_2008_sub[object_columns] = ames_raw_2008_sub[object_columns].astype('category')\n",
    "\n",
    "# reset Index prepating for the Bootstrap\n",
    "ames_raw_2008_sub.reset_index(drop=True, inplace=True)"
   ]
  },
  {
   "cell_type": "code",
   "execution_count": 184,
   "id": "6ca3bff3",
   "metadata": {},
   "outputs": [
    {
     "name": "stdout",
     "output_type": "stream",
     "text": [
      "                            OLS Regression Results                            \n",
      "==============================================================================\n",
      "Dep. Variable:      np.log(SalePrice)   R-squared:                       0.771\n",
      "Model:                            OLS   Adj. R-squared:                  0.769\n",
      "Method:                 Least Squares   F-statistic:                     449.8\n",
      "Date:                Fri, 09 Feb 2024   Prob (F-statistic):               0.00\n",
      "Time:                        14:20:30   Log-Likelihood:                 334.41\n",
      "No. Observations:                1213   AIC:                            -648.8\n",
      "Df Residuals:                    1203   BIC:                            -597.8\n",
      "Df Model:                           9                                         \n",
      "Covariance Type:            nonrobust                                         \n",
      "=======================================================================================\n",
      "                          coef    std err          t      P>|t|      [0.025      0.975]\n",
      "---------------------------------------------------------------------------------------\n",
      "Intercept              -1.4076      0.639     -2.202      0.028      -2.662      -0.154\n",
      "Q('Year Built')         0.0034      0.000     12.039      0.000       0.003       0.004\n",
      "Q('Year Remod/Add')     0.0031      0.000      8.305      0.000       0.002       0.004\n",
      "Q('Total Bsmt SF')    9.02e-05   2.99e-05      3.020      0.003    3.16e-05       0.000\n",
      "Q('1st Flr SF')         0.0002      0.000      1.322      0.186      -0.000       0.001\n",
      "Q('2nd Flr SF')         0.0001      0.000      0.846      0.398      -0.000       0.000\n",
      "Q('Gr Liv Area')        0.0002      0.000      1.588      0.113   -5.86e-05       0.001\n",
      "Q('Full Bath')         -0.0124      0.014     -0.863      0.388      -0.041       0.016\n",
      "Q('TotRms AbvGrd')     -0.0166      0.006     -2.748      0.006      -0.028      -0.005\n",
      "Q('Garage Area')        0.0003   3.75e-05      6.776      0.000       0.000       0.000\n",
      "==============================================================================\n",
      "Omnibus:                      755.898   Durbin-Watson:                   1.361\n",
      "Prob(Omnibus):                  0.000   Jarque-Bera (JB):            27346.301\n",
      "Skew:                          -2.304   Prob(JB):                         0.00\n",
      "Kurtosis:                      25.800   Cond. No.                     4.41e+05\n",
      "==============================================================================\n",
      "\n",
      "Notes:\n",
      "[1] Standard Errors assume that the covariance matrix of the errors is correctly specified.\n",
      "[2] The condition number is large, 4.41e+05. This might indicate that there are\n",
      "strong multicollinearity or other numerical problems.\n"
     ]
    }
   ],
   "source": [
    "# chose predictors from sacatter plots\n",
    "formula = \"np.log(SalePrice) ~ 1 + Q('Year Built') + Q('Year Remod/Add') + Q('Total Bsmt SF') + Q('1st Flr SF') + Q('2nd Flr SF') + Q('Gr Liv Area') + Q('Full Bath') + Q('TotRms AbvGrd') + Q('Garage Area')\"\n",
    "\n",
    "# Fit the linear regression model\n",
    "lmfit_2008 = sm.ols(formula, ames_raw_2008_sub).fit()\n",
    "print(lmfit_2008.summary())"
   ]
  },
  {
   "cell_type": "code",
   "execution_count": 188,
   "id": "7a7e9c26",
   "metadata": {},
   "outputs": [],
   "source": [
    "def bootstrap_se(df, formula, n_bootstraps):\n",
    "    bootstraps_se = []\n",
    "    np.random.seed(123)\n",
    "\n",
    "    for _ in range(n_bootstraps):\n",
    "        # Sample with replacement\n",
    "        sample = df.sample(n=len(df), replace=True)\n",
    "        \n",
    "        # Fit the model on the bootstrap sample\n",
    "        model = sm.ols(formula, data=sample).fit()\n",
    "        \n",
    "        # Store the standard errors of the coefficients\n",
    "        bootstraps_se.append(model.bse)\n",
    "    \n",
    "    return pd.DataFrame(bootstraps_se)"
   ]
  },
  {
   "cell_type": "code",
   "execution_count": 189,
   "id": "b5e3eb2d",
   "metadata": {},
   "outputs": [
    {
     "name": "stdout",
     "output_type": "stream",
     "text": [
      "Bootstrap Standard Errors:\n",
      "Intercept              0.048825\n",
      "Q('Year Built')        0.000021\n",
      "Q('Year Remod/Add')    0.000026\n",
      "Q('Total Bsmt SF')     0.000002\n",
      "Q('1st Flr SF')        0.000023\n",
      "Q('2nd Flr SF')        0.000023\n",
      "Q('Gr Liv Area')       0.000023\n",
      "Q('Full Bath')         0.001073\n",
      "Q('TotRms AbvGrd')     0.000454\n",
      "Q('Garage Area')       0.000003\n",
      "dtype: float64\n"
     ]
    }
   ],
   "source": [
    "# Perform bootstrapping\n",
    "myformula= \"np.log(SalePrice) ~ 1 + Q('Year Built') + Q('Year Remod/Add') + Q('Total Bsmt SF') + Q('1st Flr SF') + Q('2nd Flr SF') + Q('Gr Liv Area') + Q('Full Bath') + Q('TotRms AbvGrd') + Q('Garage Area')\"\n",
    "bootstraps_se = bootstrap_se(ames_raw_2009, myformula, 1000)\n",
    "\n",
    "# Calculate the standard errors from the bootstrap samples\n",
    "bootstrap_standard_errors = bootstraps_se.std()\n",
    "\n",
    "print(\"Bootstrap Standard Errors:\")\n",
    "print(bootstrap_standard_errors)"
   ]
  },
  {
   "cell_type": "markdown",
   "id": "c3e8bb5d",
   "metadata": {},
   "source": [
    "Your answer:\n",
    "\n",
    "~~~\n",
    "Please write your answer in full sentences.\n",
    "\n",
    "SE from the Bootstrap method is smaller than model based SE, which suggests that SE from Bootstrap has more confidence in the coefficient estimate than model based estimate.\n",
    "~~~\n",
    "\n",
    "\n",
    "* Use cross validation  to decide which model has a good predictive accuracy.  Does the result hold true for the prediction of future data?\n",
    "\n",
    "Your code:"
   ]
  },
  {
   "cell_type": "code",
   "execution_count": 190,
   "id": "41a4fb1e",
   "metadata": {},
   "outputs": [],
   "source": [
    "from sklearn.model_selection import KFold\n",
    "import statsmodels.formula.api as sm\n",
    "from sklearn.metrics import mean_squared_error"
   ]
  },
  {
   "cell_type": "code",
   "execution_count": 212,
   "id": "2fa22fc7",
   "metadata": {
    "Rmd_chunk_options": "echo=TRUE",
    "kernel": "Python3",
    "tags": [
     "report_cell"
    ]
   },
   "outputs": [
    {
     "name": "stdout",
     "output_type": "stream",
     "text": [
      "Model 1 Average MSE: 0.036273097922835534\n",
      "Model 2 Average MSE: 0.04817430226527726\n"
     ]
    }
   ],
   "source": [
    "kf = KFold(n_splits=10, shuffle=True, random_state=123)\n",
    "\n",
    "mse_model1 = []\n",
    "mse_model2 = []\n",
    "\n",
    "for train_index, validation_index in kf.split(ames_raw_2008):\n",
    "    train_data, validation_data = ames_raw_2008.iloc[train_index], ames_raw_2008.iloc[validation_index]\n",
    "    \n",
    "    # Model 1\n",
    "    formula1 = \"np.log(SalePrice) ~ 1 + Q('Year Built') + Q('Year Remod/Add') + Q('Total Bsmt SF') + Q('1st Flr SF') + Q('2nd Flr SF') + Q('Gr Liv Area') + Q('Full Bath') + Q('TotRms AbvGrd') + Q('Garage Area')\"\n",
    "    model1 = sm.ols(formula1, data=train_data).fit()\n",
    "    predictions1 = model1.predict(validation_data)\n",
    "    predictions1= predictions1.fillna(predictions1.mean())\n",
    "    mse_model1.append(mean_squared_error(np.log(validation_data['SalePrice']), predictions1))\n",
    "    \n",
    "    # Model 2\n",
    "    formula2 = \"np.log(SalePrice) ~1 + Q('Total Bsmt SF') + Q('1st Flr SF') + Q('2nd Flr SF') + Q('Gr Liv Area') + Q('Full Bath') + Q('TotRms AbvGrd') + Q('Garage Area')\"\n",
    "    model2 = sm.ols(formula2, data=train_data).fit()\n",
    "    predictions2 = model2.predict(validation_data)\n",
    "    predictions2 = predictions2.fillna(predictions2.mean())\n",
    "    mse_model2.append(mean_squared_error(np.log(validation_data['SalePrice']), predictions2))\n",
    "\n",
    "\n",
    "\n",
    "# Average MSE\n",
    "avg_mse_model1 = np.mean(mse_model1)\n",
    "avg_mse_model2 = np.mean(mse_model2)\n",
    "\n",
    "print(f\"Model 1 Average MSE: {avg_mse_model1}\")\n",
    "print(f\"Model 2 Average MSE: {avg_mse_model2}\")"
   ]
  },
  {
   "cell_type": "markdown",
   "id": "ee392923",
   "metadata": {},
   "source": [
    "Your answer:\n",
    "\n",
    "~~~\n",
    "Please write your answer in full sentences.\n",
    "\n",
    "From the 10-fold cross validation, MSE got smaller after adding variables regarging year on the model.   \n",
    "I created validation data sets through CV methods to expect that we can predict the MSE for the test data set (future data sets), but I think this is not always true.\n",
    "~~~\n",
    "\n",
    "\n",
    "* Using `knn.reg` fit KNN regression model.  Use cross validation to decide which K to use.\n",
    "\n",
    "Your code:"
   ]
  },
  {
   "cell_type": "code",
   "execution_count": null,
   "id": "54c21c64",
   "metadata": {
    "Rmd_chunk_options": "echo=TRUE",
    "kernel": "Python3",
    "tags": [
     "report_cell"
    ]
   },
   "outputs": [],
   "source": [
    "#\n",
    "#"
   ]
  },
  {
   "cell_type": "markdown",
   "id": "e116dea8",
   "metadata": {},
   "source": [
    "Your answer:\n",
    "\n",
    "~~~\n",
    "Please write your answer in full sentences.\n",
    "\n",
    "\n",
    "~~~\n",
    "\n",
    "\n",
    "* Which model performs better on your training data?  Which model performs better in your future prediction?\n",
    "\n",
    "Your code:"
   ]
  },
  {
   "cell_type": "code",
   "execution_count": null,
   "id": "1b41a25c",
   "metadata": {
    "Rmd_chunk_options": "echo=TRUE",
    "kernel": "Python3",
    "tags": [
     "report_cell"
    ]
   },
   "outputs": [],
   "source": [
    "#\n",
    "#"
   ]
  },
  {
   "cell_type": "markdown",
   "id": "adf13891",
   "metadata": {},
   "source": [
    "Your answer:\n",
    "\n",
    "~~~\n",
    "Please write your answer in full sentences.\n",
    "\n",
    "\n",
    "~~~"
   ]
  },
  {
   "cell_type": "markdown",
   "id": "75b49db5",
   "metadata": {},
   "source": [
    "## Problem Set"
   ]
  },
  {
   "cell_type": "markdown",
   "id": "3e1e310f",
   "metadata": {},
   "source": [
    "### Bootstrap\n",
    "\n",
    "We will now investigate numerically the probability that a bootstrap sample of size n = 100 contains the jth observation. Here j = 4. We first create an array store with values that will subsequently\n",
    "be overwritten using the function np.empty(). We then repeatedly create bootstrap samples, and each time we record whether or not the fifth observation is contained in the bootstrap\n",
    "sample.\n",
    "\n",
    "We will investigate numerically the probability that a bootstrap sample of size n = 100 contains the jth observation. Here j = 4. We repeatedly create bootstrap samples, and each time\n",
    "we record whether or not the fourth observation is contained in the bootstrap sample.\n",
    "\n",
    "Here is the code to get you going"
   ]
  },
  {
   "cell_type": "code",
   "execution_count": null,
   "id": "275e75fd",
   "metadata": {
    "Rmd_chunk_options": "echo =TRUE,eval=FALSE",
    "kernel": "Python3",
    "tags": [
     "report_cell"
    ]
   },
   "outputs": [
    {
     "data": {
      "text/plain": [
       "0.6362"
      ]
     },
     "execution_count": 14,
     "metadata": {},
     "output_type": "execute_result"
    }
   ],
   "source": [
    "rng = np.random.default_rng (10)\n",
    "store = np.empty (10000)\n",
    "for i in range (10000):\n",
    "    store[i] = np.sum(rng.choice(100, 100, replace=True) == 4) > 0\n",
    "\n",
    "\n",
    "np.mean(store)"
   ]
  },
  {
   "cell_type": "markdown",
   "id": "aa96d784",
   "metadata": {},
   "source": [
    "Comment on the results obtained.\n",
    "\n",
    "\n",
    "Your code:"
   ]
  },
  {
   "cell_type": "code",
   "execution_count": null,
   "id": "73352cec",
   "metadata": {
    "Rmd_chunk_options": "echo=TRUE",
    "kernel": "Python3",
    "tags": [
     "report_cell"
    ]
   },
   "outputs": [],
   "source": [
    "#\n",
    "#"
   ]
  },
  {
   "cell_type": "markdown",
   "id": "ce1a4875",
   "metadata": {},
   "source": [
    "Your answer:\n",
    "\n",
    "~~~\n",
    "Please write your answer in full sentences.\n",
    "\n",
    "\n",
    "~~~"
   ]
  },
  {
   "cell_type": "markdown",
   "id": "ca9da176",
   "metadata": {},
   "source": [
    "### CV\n",
    "\n",
    "We will now perform cross-validation on a simulated data set.\n",
    "(a) Generate a simulated data set as follows:"
   ]
  },
  {
   "cell_type": "code",
   "execution_count": null,
   "id": "269de067",
   "metadata": {
    "Rmd_chunk_options": "eval=FALSE, echo =TRUE",
    "kernel": "Python3",
    "tags": [
     "report_cell"
    ]
   },
   "outputs": [],
   "source": [
    "rng = np.random.default_rng(1)\n",
    "x = rng.normal(size=100)\n",
    "y = x - 2 * x**2 + rng.normal(size=100)"
   ]
  },
  {
   "cell_type": "markdown",
   "id": "a7051ad7",
   "metadata": {},
   "source": [
    "In this data set, what is n and what is p? Write out the model\n",
    "used to generate the data in equation form.\n",
    "\n",
    "\n",
    "Your code:"
   ]
  },
  {
   "cell_type": "code",
   "execution_count": null,
   "id": "7e1e71c6",
   "metadata": {
    "Rmd_chunk_options": "echo=TRUE",
    "kernel": "Python3",
    "tags": [
     "report_cell"
    ]
   },
   "outputs": [],
   "source": [
    "#\n",
    "#"
   ]
  },
  {
   "cell_type": "markdown",
   "id": "48cab751",
   "metadata": {},
   "source": [
    "Your answer:\n",
    "\n",
    "~~~\n",
    "Please write your answer in full sentences.\n",
    "\n",
    "\n",
    "~~~\n",
    "\n",
    "\n",
    "(b) Create a scatterplot of X against Y . Comment on what you find.\n",
    "\n",
    "\n",
    "Your code:"
   ]
  },
  {
   "cell_type": "code",
   "execution_count": null,
   "id": "3f195ab3",
   "metadata": {
    "Rmd_chunk_options": "echo=TRUE",
    "kernel": "Python3",
    "tags": [
     "report_cell"
    ]
   },
   "outputs": [],
   "source": [
    "#\n",
    "#"
   ]
  },
  {
   "cell_type": "markdown",
   "id": "ef692fff",
   "metadata": {},
   "source": [
    "Your answer:\n",
    "\n",
    "~~~\n",
    "Please write your answer in full sentences.\n",
    "\n",
    "\n",
    "~~~\n",
    "\n",
    "(c) Set a random seed, and then compute the LOOCV errors that result from fitting the following four models using least squares:\n",
    "\n",
    "i.   $Y = \\beta_0 + \\beta_1X + \\epsilon$\n",
    "ii.  $Y = \\beta_0 + \\beta_1X + \\beta_2X^2 + \\epsilon$\n",
    "iii. $Y = \\beta_0 + \\beta_1X + \\beta_2X^2 + \\beta_3X^3 + \\epsilon$\n",
    "iv.  $Y = \\beta_0 + \\beta_1X + \\beta_2X^2 + \\beta_3X^3 + \\beta_4X^4 + \\epsilon$.\n",
    "\n",
    "Note you may find it helpful to use the `data.frame()` function\n",
    "to create a single data set containing both $X$ and $Y$ .\n",
    "\n",
    "\n",
    "Your code:"
   ]
  },
  {
   "cell_type": "code",
   "execution_count": null,
   "id": "45208594",
   "metadata": {
    "Rmd_chunk_options": "echo=TRUE",
    "kernel": "Python3",
    "tags": [
     "report_cell"
    ]
   },
   "outputs": [],
   "source": [
    "#\n",
    "#"
   ]
  },
  {
   "cell_type": "markdown",
   "id": "26dae8c9",
   "metadata": {},
   "source": [
    "Your answer:\n",
    "\n",
    "~~~\n",
    "Please write your answer in full sentences.\n",
    "\n",
    "\n",
    "~~~\n",
    "\n",
    "\n",
    "(d) Repeat (c) using another random seed, and report your results.\n",
    "Are your results the same as what you got in (c)? Why?\n",
    "\n",
    "Your code:"
   ]
  },
  {
   "cell_type": "code",
   "execution_count": null,
   "id": "4fcf9ba9",
   "metadata": {
    "Rmd_chunk_options": "echo=TRUE",
    "kernel": "Python3",
    "tags": [
     "report_cell"
    ]
   },
   "outputs": [],
   "source": [
    "#\n",
    "#"
   ]
  },
  {
   "cell_type": "markdown",
   "id": "1b1c1120",
   "metadata": {},
   "source": [
    "Your answer:\n",
    "\n",
    "~~~\n",
    "Please write your answer in full sentences.\n",
    "\n",
    "\n",
    "~~~\n",
    "\n",
    "(e) Which of the models in (c) had the smallest LOOCV error? Is this what you expected? Explain your answer.\n",
    "\n",
    "Your code:"
   ]
  },
  {
   "cell_type": "code",
   "execution_count": null,
   "id": "8ecfb45c",
   "metadata": {
    "Rmd_chunk_options": "echo=TRUE",
    "kernel": "Python3",
    "tags": [
     "report_cell"
    ]
   },
   "outputs": [],
   "source": [
    "#\n",
    "#"
   ]
  },
  {
   "cell_type": "markdown",
   "id": "6301a74c",
   "metadata": {},
   "source": [
    "Your answer:\n",
    "\n",
    "~~~\n",
    "Please write your answer in full sentences.\n",
    "\n",
    "\n",
    "~~~\n",
    "\n",
    "\n",
    "(f) Comment on the statistical significance of the coefficient estimates that results from fitting each of the models in (c) using least squares. Do these results agree with the conclusions drawn based on the cross-validation results?\n",
    "\n",
    "\n",
    "Your code:"
   ]
  },
  {
   "cell_type": "code",
   "execution_count": null,
   "id": "d84ba43e",
   "metadata": {
    "Rmd_chunk_options": "echo=TRUE",
    "kernel": "Python3",
    "tags": [
     "report_cell"
    ]
   },
   "outputs": [],
   "source": [
    "#\n",
    "#"
   ]
  },
  {
   "cell_type": "markdown",
   "id": "26ea7d2f",
   "metadata": {},
   "source": [
    "Your answer:\n",
    "\n",
    "~~~\n",
    "Please write your answer in full sentences.\n",
    "\n",
    "\n",
    "~~~"
   ]
  },
  {
   "cell_type": "markdown",
   "id": "02963416",
   "metadata": {},
   "source": [
    "### Default 1\n",
    "\n",
    "In Chapter 4, we used logistic regression to predict the probability of default using income and balance on the `Default` data set. We will now estimate the test error of this logistic regression model using the validation set approach. Do not forget to set a random seed before beginning your analysis.\n",
    "\n",
    "(a) Fit a logistic regression model that uses income and balance to predict default.\n",
    "\n",
    "Your code:"
   ]
  },
  {
   "cell_type": "code",
   "execution_count": null,
   "id": "75995a81",
   "metadata": {
    "Rmd_chunk_options": "echo=TRUE",
    "kernel": "Python3",
    "tags": [
     "report_cell"
    ]
   },
   "outputs": [],
   "source": [
    "#\n",
    "#"
   ]
  },
  {
   "cell_type": "markdown",
   "id": "4cf78636",
   "metadata": {},
   "source": [
    "Your answer:\n",
    "\n",
    "~~~\n",
    "Please write your answer in full sentences.\n",
    "\n",
    "\n",
    "~~~\n",
    "\n",
    "\n",
    "(b) Using the validation set approach, estimate the test error of this model. In order to do this, you must perform the following steps:\n",
    "\n",
    "i. Split the sample set into a training set and a validation set.\n",
    "\n",
    "Your code:"
   ]
  },
  {
   "cell_type": "code",
   "execution_count": null,
   "id": "3b5e79ce",
   "metadata": {
    "Rmd_chunk_options": "echo=TRUE",
    "kernel": "Python3",
    "tags": [
     "report_cell"
    ]
   },
   "outputs": [],
   "source": [
    "#\n",
    "#"
   ]
  },
  {
   "cell_type": "markdown",
   "id": "1c1d6cd6",
   "metadata": {},
   "source": [
    "Your answer:\n",
    "\n",
    "~~~\n",
    "Please write your answer in full sentences.\n",
    "\n",
    "\n",
    "~~~\n",
    "\n",
    "ii. Fit a multiple logistic regression model using only the training observations.\n",
    "\n",
    "Your code:"
   ]
  },
  {
   "cell_type": "code",
   "execution_count": null,
   "id": "4933acb7",
   "metadata": {
    "Rmd_chunk_options": "echo=TRUE",
    "kernel": "Python3",
    "tags": [
     "report_cell"
    ]
   },
   "outputs": [],
   "source": [
    "#\n",
    "#"
   ]
  },
  {
   "cell_type": "markdown",
   "id": "d0e17ef7",
   "metadata": {},
   "source": [
    "Your answer:\n",
    "\n",
    "~~~\n",
    "Please write your answer in full sentences.\n",
    "\n",
    "\n",
    "~~~\n",
    "\n",
    "\n",
    "iii. Obtain a prediction of default status for each individual in the validation set by computing the posterior probability of default for that individual, and classifying the individual to the default category if the posterior probability is greater than 0.5.\n",
    "\n",
    "\n",
    "Your code:"
   ]
  },
  {
   "cell_type": "code",
   "execution_count": null,
   "id": "2337c08a",
   "metadata": {
    "Rmd_chunk_options": "echo=TRUE",
    "kernel": "Python3",
    "tags": [
     "report_cell"
    ]
   },
   "outputs": [],
   "source": [
    "#\n",
    "#"
   ]
  },
  {
   "cell_type": "markdown",
   "id": "05db2665",
   "metadata": {},
   "source": [
    "Your answer:\n",
    "\n",
    "~~~\n",
    "Please write your answer in full sentences.\n",
    "\n",
    "\n",
    "~~~\n",
    "\n",
    "\n",
    "iv. Compute the validation set error, which is the fraction of the observations in the validation set that are misclassified.\n",
    "\n",
    "Your code:"
   ]
  },
  {
   "cell_type": "code",
   "execution_count": null,
   "id": "1b9bbe22",
   "metadata": {
    "Rmd_chunk_options": "echo=TRUE",
    "kernel": "Python3",
    "tags": [
     "report_cell"
    ]
   },
   "outputs": [],
   "source": [
    "#\n",
    "#"
   ]
  },
  {
   "cell_type": "markdown",
   "id": "3ea2e7e5",
   "metadata": {},
   "source": [
    "Your answer:\n",
    "\n",
    "~~~\n",
    "Please write your answer in full sentences.\n",
    "\n",
    "\n",
    "~~~\n",
    "\n",
    "\n",
    "(c) Repeat the process in (b) three times, using three different splits of the observations into a training set and a validation set. Comment on the results obtained.\n",
    "\n",
    "\n",
    "Your code:"
   ]
  },
  {
   "cell_type": "code",
   "execution_count": null,
   "id": "021da8ff",
   "metadata": {
    "Rmd_chunk_options": "echo=TRUE",
    "kernel": "Python3",
    "tags": [
     "report_cell"
    ]
   },
   "outputs": [],
   "source": [
    "#\n",
    "#"
   ]
  },
  {
   "cell_type": "markdown",
   "id": "c2108a59",
   "metadata": {},
   "source": [
    "Your answer:\n",
    "\n",
    "~~~\n",
    "Please write your answer in full sentences.\n",
    "\n",
    "\n",
    "~~~\n",
    "\n",
    "\n",
    "(d) Now consider a logistic regression model that predicts the probability of default using income, balance, and a dummy variable for student. Estimate the test error for this model using the validation set approach. Comment on whether or not including a dummy variable for student leads to a reduction in the test error rate.\n",
    "\n",
    "\n",
    "Your code:"
   ]
  },
  {
   "cell_type": "code",
   "execution_count": null,
   "id": "0087016a",
   "metadata": {
    "Rmd_chunk_options": "echo=TRUE",
    "kernel": "Python3",
    "tags": [
     "report_cell"
    ]
   },
   "outputs": [],
   "source": [
    "#\n",
    "#"
   ]
  },
  {
   "cell_type": "markdown",
   "id": "f2fb222e",
   "metadata": {},
   "source": [
    "Your answer:\n",
    "\n",
    "~~~\n",
    "Please write your answer in full sentences.\n",
    "\n",
    "\n",
    "~~~"
   ]
  },
  {
   "cell_type": "markdown",
   "id": "5eb2e117",
   "metadata": {},
   "source": [
    "### Default 2\n",
    "\n",
    "We continue to consider the use of a logistic regression model to\n",
    "predict the probability of default using income and balance on the\n",
    "Default data set. In particular, we will now compute estimates for the\n",
    "standard errors of the income and balance logistic regression coefficients\n",
    "in two different ways: (1) using the bootstrap, and (2) using the\n",
    "standard formula for computing the standard errors in the sm.GLM()\n",
    "function. Do not forget to set a random seed before beginning your\n",
    "analysis.\n",
    "\n",
    "(a) Using the `summarize()` and `sm.GLM()` functions, determine the\n",
    "estimated standard errors for the coefficients associated with\n",
    "income and balance in a multiple logistic regression model that\n",
    "uses both predictors.\n",
    "Your code:"
   ]
  },
  {
   "cell_type": "code",
   "execution_count": null,
   "id": "c9e48b55",
   "metadata": {
    "Rmd_chunk_options": "echo=TRUE",
    "kernel": "Python3",
    "tags": [
     "report_cell"
    ]
   },
   "outputs": [],
   "source": [
    "#\n",
    "#"
   ]
  },
  {
   "cell_type": "markdown",
   "id": "7dabf728",
   "metadata": {},
   "source": [
    "Your answer:\n",
    "\n",
    "~~~\n",
    "Please write your answer in full sentences.\n",
    "\n",
    "\n",
    "~~~\n",
    "\n",
    "\n",
    "(b) Write a function, `boot_fn()`, that takes as input the Default data\n",
    "set as well as an index of the observations, and that outputs\n",
    "the coefficient estimates for income and balance in the multiple\n",
    "logistic regression model.\n",
    "\n",
    "Your code:"
   ]
  },
  {
   "cell_type": "code",
   "execution_count": null,
   "id": "150d3446",
   "metadata": {
    "Rmd_chunk_options": "echo=TRUE",
    "kernel": "Python3",
    "tags": [
     "report_cell"
    ]
   },
   "outputs": [],
   "source": [
    "#\n",
    "#"
   ]
  },
  {
   "cell_type": "markdown",
   "id": "d2d9f690",
   "metadata": {},
   "source": [
    "Your answer:\n",
    "\n",
    "~~~\n",
    "Please write your answer in full sentences.\n",
    "\n",
    "\n",
    "~~~\n",
    "\n",
    "(c) Following the bootstrap example in the lab, use your `boot_fn()`\n",
    "function to estimate the standard errors of the logistic regression\n",
    "coefficients for income and balance.\n",
    "\n",
    "\n",
    "Your code:"
   ]
  },
  {
   "cell_type": "code",
   "execution_count": null,
   "id": "771a1fca",
   "metadata": {
    "Rmd_chunk_options": "echo=TRUE",
    "kernel": "Python3",
    "tags": [
     "report_cell"
    ]
   },
   "outputs": [],
   "source": [
    "#\n",
    "#"
   ]
  },
  {
   "cell_type": "markdown",
   "id": "8b9f2e13",
   "metadata": {},
   "source": [
    "Your answer:\n",
    "\n",
    "~~~\n",
    "Please write your answer in full sentences.\n",
    "\n",
    "\n",
    "~~~\n",
    "\n",
    "\n",
    "(d) Comment on the estimated standard errors obtained using the `sm.GLM()` function and using the bootstrap.\n",
    "\n",
    "Your answer:\n",
    "\n",
    "~~~\n",
    "Please write your answer in full sentences.\n",
    "\n",
    "\n",
    "~~~"
   ]
  },
  {
   "cell_type": "markdown",
   "id": "d8e99194",
   "metadata": {},
   "source": [
    "### Boston housing data set\n",
    "\n",
    "We will now consider the Boston housing data set, from the ISLR library."
   ]
  },
  {
   "cell_type": "code",
   "execution_count": null,
   "id": "3e0c713d",
   "metadata": {
    "kernel": "Python3",
    "tags": [
     "report_cell"
    ]
   },
   "outputs": [],
   "source": [
    "Boston = load_data(\"Boston\")"
   ]
  },
  {
   "cell_type": "markdown",
   "id": "3478a17a",
   "metadata": {},
   "source": [
    "(a) Based on this data set, provide an estimate for the population mean of medv. Call this estimate $\\hat{\\mu}$.\n",
    "\n",
    "Your code:"
   ]
  },
  {
   "cell_type": "code",
   "execution_count": null,
   "id": "7ac30b1b",
   "metadata": {
    "Rmd_chunk_options": "echo=TRUE",
    "kernel": "Python3",
    "tags": [
     "report_cell"
    ]
   },
   "outputs": [],
   "source": [
    "#\n",
    "#"
   ]
  },
  {
   "cell_type": "markdown",
   "id": "8c227ec3",
   "metadata": {},
   "source": [
    "Your answer:\n",
    "\n",
    "~~~\n",
    "Please write your answer in full sentences.\n",
    "\n",
    "\n",
    "~~~\n",
    "\n",
    "\n",
    "(b) Provide an estimate of the standard error of $\\hat{\\mu}$. Interpret this result.\n",
    "Hint: We can compute the standard error of the sample mean by dividing the sample standard deviation by the square root of the number of observations.\n",
    "\n",
    "Your code:"
   ]
  },
  {
   "cell_type": "code",
   "execution_count": null,
   "id": "1caaf8fc",
   "metadata": {
    "Rmd_chunk_options": "echo=TRUE",
    "kernel": "Python3",
    "tags": [
     "report_cell"
    ]
   },
   "outputs": [],
   "source": [
    "#\n",
    "#"
   ]
  },
  {
   "cell_type": "markdown",
   "id": "3446e733",
   "metadata": {},
   "source": [
    "Your answer:\n",
    "\n",
    "~~~\n",
    "Please write your answer in full sentences.\n",
    "\n",
    "\n",
    "~~~\n",
    "\n",
    "\n",
    "(c) Now estimate the standard error of $\\hat{\\mu}$ using the bootstrap. How does this compare to your answer from (b)?\n",
    "\n",
    "Your code:"
   ]
  },
  {
   "cell_type": "code",
   "execution_count": null,
   "id": "0c0a9cbf",
   "metadata": {
    "Rmd_chunk_options": "echo=TRUE",
    "kernel": "Python3",
    "tags": [
     "report_cell"
    ]
   },
   "outputs": [],
   "source": [
    "#\n",
    "#"
   ]
  },
  {
   "cell_type": "markdown",
   "id": "4bf56fb8",
   "metadata": {},
   "source": [
    "Your answer:\n",
    "\n",
    "~~~\n",
    "Please write your answer in full sentences.\n",
    "\n",
    "\n",
    "~~~\n",
    "\n",
    "(d) Based on your bootstrap estimate from (c), provide a 95 % confidence\n",
    "interval for the mean of medv. Compare it to the results\n",
    "obtained by using `Boston['medv'].std()` and the two standard\n",
    "error rule (3.9).\n",
    "Hint: You can approximate a 95% confidence interval using the formula $[\\hat{\\mu} − 2SE(\\hat{\\mu}), \\hat{\\mu} + 2SE(\\hat{\\mu})]$.\n",
    "\n",
    "Your code:"
   ]
  },
  {
   "cell_type": "code",
   "execution_count": null,
   "id": "59be24cc",
   "metadata": {
    "Rmd_chunk_options": "echo=TRUE",
    "kernel": "Python3",
    "tags": [
     "report_cell"
    ]
   },
   "outputs": [],
   "source": [
    "#\n",
    "#"
   ]
  },
  {
   "cell_type": "markdown",
   "id": "d16a99c5",
   "metadata": {},
   "source": [
    "Your answer:\n",
    "\n",
    "~~~\n",
    "Please write your answer in full sentences.\n",
    "\n",
    "\n",
    "~~~\n",
    "\n",
    "\n",
    "(e) Based on this data set, provide an estimate, $\\hat{\\mu}_{med}$, for the median value of medv in the population.\n",
    "\n",
    "Your code:"
   ]
  },
  {
   "cell_type": "code",
   "execution_count": null,
   "id": "ce645b44",
   "metadata": {
    "Rmd_chunk_options": "echo=TRUE",
    "kernel": "Python3",
    "tags": [
     "report_cell"
    ]
   },
   "outputs": [],
   "source": [
    "#\n",
    "#"
   ]
  },
  {
   "cell_type": "markdown",
   "id": "927aa002",
   "metadata": {},
   "source": [
    "Your answer:\n",
    "\n",
    "~~~\n",
    "Please write your answer in full sentences.\n",
    "\n",
    "\n",
    "~~~\n",
    "\n",
    "\n",
    "(f) We now would like to estimate the standard error of $\\hat{\\mu}_{med}$. Unfortunately, there is no simple formula for computing the standard error of the median. Instead, estimate the standard error of the median using the bootstrap. Comment on your findings.\n",
    "\n",
    "Your code:"
   ]
  },
  {
   "cell_type": "code",
   "execution_count": null,
   "id": "0221e97a",
   "metadata": {
    "Rmd_chunk_options": "echo=TRUE",
    "kernel": "Python3",
    "tags": [
     "report_cell"
    ]
   },
   "outputs": [],
   "source": [
    "#\n",
    "#"
   ]
  },
  {
   "cell_type": "markdown",
   "id": "3f90e963",
   "metadata": {},
   "source": [
    "Your answer:\n",
    "\n",
    "~~~\n",
    "Please write your answer in full sentences.\n",
    "\n",
    "\n",
    "~~~\n",
    "\n",
    "\n",
    "\n",
    "(g) Based on this data set, provide an estimate for the tenth percentile\n",
    "of medv in Boston census tracts. Call this quantity $\\hat{\\mu}_{0.1}$.\n",
    "(You can use the `np.percentile()` function.)\n",
    "\n",
    "Your code:"
   ]
  },
  {
   "cell_type": "code",
   "execution_count": null,
   "id": "dca83bcb",
   "metadata": {
    "Rmd_chunk_options": "echo=TRUE",
    "kernel": "Python3",
    "tags": [
     "report_cell"
    ]
   },
   "outputs": [],
   "source": [
    "#\n",
    "#"
   ]
  },
  {
   "cell_type": "markdown",
   "id": "3a298b56",
   "metadata": {},
   "source": [
    "Your answer:\n",
    "\n",
    "~~~\n",
    "Please write your answer in full sentences.\n",
    "\n",
    "\n",
    "~~~\n",
    "\n",
    "\n",
    "(h) Use the bootstrap to estimate the standard error of $\\hat{\\mu}_{0.1}$. Comment on your findings.\n",
    "\n",
    "Your code:"
   ]
  },
  {
   "cell_type": "code",
   "execution_count": null,
   "id": "56248d00",
   "metadata": {
    "Rmd_chunk_options": "echo=TRUE",
    "kernel": "Python3",
    "tags": [
     "report_cell"
    ]
   },
   "outputs": [],
   "source": [
    "#\n",
    "#"
   ]
  },
  {
   "cell_type": "markdown",
   "id": "1f070ead",
   "metadata": {},
   "source": [
    "Your answer:\n",
    "\n",
    "~~~\n",
    "Please write your answer in full sentences.\n",
    "\n",
    "\n",
    "~~~"
   ]
  },
  {
   "cell_type": "markdown",
   "id": "8f8173b4",
   "metadata": {},
   "source": [
    "## Additional Material"
   ]
  },
  {
   "cell_type": "markdown",
   "id": "8a6174ae",
   "metadata": {},
   "source": [
    "### Cross Validation for Predictive Modeling Platforms in Python"
   ]
  },
  {
   "cell_type": "markdown",
   "id": "fcfdcf96",
   "metadata": {},
   "source": [
    "#### scikit-learn\n",
    "\n",
    "Using platforms like scikit-learn is helpful for things such as cross validation.\n",
    "There are variants of CV implemented to be used off the shelf\n",
    "https://scikit-learn.org/stable/modules/cross_validation.html\n",
    "\n",
    "There are many metrics you can choose from\n",
    "https://scikit-learn.org/stable/modules/model_evaluation.html#scoring-parameter"
   ]
  },
  {
   "cell_type": "code",
   "execution_count": null,
   "id": "753aa0f5",
   "metadata": {
    "Rmd_chunk_options": "echo=TRUE",
    "kernel": "Python3",
    "tags": [
     "report_cell"
    ]
   },
   "outputs": [],
   "source": [
    "ames_raw_comp=ames_raw.loc[:,[\"SalePrice\",\"Gr Liv Area\",\"Lot Area\",\"Total Bsmt SF\"]].dropna()\n",
    "X=ames_raw_comp.loc[:,[\"Gr Liv Area\",\"Lot Area\",\"Total Bsmt SF\"]]\n",
    "y=ames_raw_comp.loc[:,\"SalePrice\"]\n",
    "from sklearn.model_selection import cross_val_score, cross_validate\n",
    "from sklearn import svm\n",
    "from sklearn.linear_model import LinearRegression\n",
    "clf =  LinearRegression()\n",
    "## One metric\n",
    "scores = cross_val_score(clf, X, y, cv=5,scoring=\"r2\")\n",
    "## Multiple metrics\n",
    "scoring = ['r2', 'max_error']\n",
    "scores = cross_validate(clf, X, y, scoring=scoring)"
   ]
  },
  {
   "cell_type": "markdown",
   "id": "e01a97f2",
   "metadata": {},
   "source": [
    "#### PySpark\n",
    "\n",
    "[Apache Spark](https://spark.apache.org/docs/3.1.3/api/python/index.html) is a popular large data handling platform.  Over the years, they built Machine Learning capabilities in MLlib."
   ]
  },
  {
   "cell_type": "code",
   "execution_count": null,
   "id": "ec5ea774",
   "metadata": {
    "Rmd_chunk_options": "eval=FALSE, echo=TRUE",
    "kernel": "Python3",
    "tags": [
     "report_cell"
    ]
   },
   "outputs": [],
   "source": [
    "import pyspark\n",
    "from pyspark.sql import SparkSession\n",
    "from pyspark.ml.classification import LogisticRegression\n",
    "from pyspark.ml.evaluation import BinaryClassificationEvaluator\n",
    "from pyspark.ml.linalg import Vectors\n",
    "from pyspark.ml.tuning import CrossValidator, ParamGridBuilder, CrossValidatorModel\n",
    "import tempfile"
   ]
  },
  {
   "cell_type": "code",
   "execution_count": null,
   "id": "77e1579c",
   "metadata": {
    "Rmd_chunk_options": "eval=FALSE, echo=TRUE",
    "kernel": "Python3",
    "tags": [
     "report_cell"
    ]
   },
   "outputs": [
    {
     "name": "stderr",
     "output_type": "stream",
     "text": [
      "Setting default log level to \"WARN\".\n",
      "To adjust logging level use sc.setLogLevel(newLevel). For SparkR, use setLogLevel(newLevel).\n",
      "24/02/09 11:10:57 WARN NativeCodeLoader: Unable to load native-hadoop library for your platform... using builtin-java classes where applicable\n"
     ]
    }
   ],
   "source": [
    "spark = SparkSession.builder.appName(\"CV_test\").getOrCreate()"
   ]
  },
  {
   "cell_type": "code",
   "execution_count": null,
   "id": "80457b98",
   "metadata": {
    "Rmd_chunk_options": "eval=FALSE, echo=TRUE",
    "kernel": "Python3",
    "tags": [
     "report_cell"
    ]
   },
   "outputs": [
    {
     "name": "stderr",
     "output_type": "stream",
     "text": [
      "24/02/09 11:11:03 WARN InstanceBuilder: Failed to load implementation from:dev.ludovic.netlib.blas.JNIBLAS\n",
      "Java HotSpot(TM) 64-Bit Server VM warning: CodeCache is full. Compiler has been disabled.\n",
      "Java HotSpot(TM) 64-Bit Server VM warning: Try increasing the code cache size using -XX:ReservedCodeCacheSize=\n"
     ]
    },
    {
     "name": "stdout",
     "output_type": "stream",
     "text": [
      "CodeCache: size=131072Kb used=35459Kb max_used=35459Kb free=95612Kb\n",
      " bounds [0x00000001081e0000, 0x000000010a4c0000, 0x00000001101e0000]\n",
      " total_blobs=13933 nmethods=12816 adapters=1027\n",
      " compilation: disabled (not enough contiguous free space left)\n"
     ]
    },
    {
     "data": {
      "text/plain": [
       "0.8333333333333333"
      ]
     },
     "execution_count": 45,
     "metadata": {},
     "output_type": "execute_result"
    }
   ],
   "source": [
    "dataset = spark.createDataFrame(\n",
    "    [(Vectors.dense([0.0]), 0.0),\n",
    "     (Vectors.dense([0.4]), 1.0),\n",
    "     (Vectors.dense([0.5]), 0.0),\n",
    "     (Vectors.dense([0.6]), 1.0),\n",
    "     (Vectors.dense([1.0]), 1.0)] * 10,\n",
    "    [\"features\", \"label\"])\n",
    "lr = LogisticRegression()\n",
    "grid = ParamGridBuilder().addGrid(lr.maxIter, [0, 1]).build()\n",
    "evaluator = BinaryClassificationEvaluator()\n",
    "cv = CrossValidator(estimator=lr, estimatorParamMaps=grid, evaluator=evaluator,\n",
    "    parallelism=2)\n",
    "cvModel = cv.fit(dataset)\n",
    "cvModel.getNumFolds()\n",
    "cvModel.avgMetrics[0]\n",
    "evaluator.evaluate(cvModel.transform(dataset))"
   ]
  },
  {
   "cell_type": "code",
   "execution_count": null,
   "id": "0b8bf62f",
   "metadata": {
    "Rmd_chunk_options": "eval=FALSE, echo=TRUE",
    "kernel": "Python3",
    "tags": [
     "report_cell"
    ]
   },
   "outputs": [],
   "source": [
    "spark.stop()"
   ]
  },
  {
   "cell_type": "markdown",
   "id": "bc5ae714",
   "metadata": {},
   "source": [
    "#### Resampling  using h2o\n",
    "\n",
    "On H2O cross validation is embedded in the function calling so you don't need to worry about learning a new wrapper on top of your estimator.\n",
    "https://docs.h2o.ai/h2o/latest-stable/h2o-docs/cross-validation.html"
   ]
  },
  {
   "cell_type": "code",
   "execution_count": null,
   "id": "23d989a8",
   "metadata": {
    "Rmd_chunk_options": "eval=FALSE, echo=TRUE",
    "kernel": "Python3",
    "tags": [
     "report_cell"
    ]
   },
   "outputs": [],
   "source": [
    "#pip install requests\n",
    "#pip install tabulate\n",
    "#pip uninstall h2o\n",
    "#pip install -f http://h2o-release.s3.amazonaws.com/h2o/latest_stable_Py.html h2o\n",
    "# load packages and data\n",
    "import h2o\n",
    "from h2o.estimators.glm import H2OGeneralizedLinearEstimator"
   ]
  },
  {
   "cell_type": "markdown",
   "id": "6f467085",
   "metadata": {},
   "source": [
    "##### Starting H2O\n",
    "\n",
    "To use H2O you need to instantiate it."
   ]
  },
  {
   "cell_type": "code",
   "execution_count": null,
   "id": "3145b8ef",
   "metadata": {
    "Rmd_chunk_options": "eval=FALSE, echo=TRUE",
    "kernel": "Python3",
    "tags": [
     "report_cell"
    ]
   },
   "outputs": [
    {
     "name": "stdout",
     "output_type": "stream",
     "text": [
      "Checking whether there is an H2O instance running at http://localhost:54321..... not found.\n",
      "Attempting to start a local H2O server...\n",
      "  Java Version: java version \"1.8.0_401\"; Java(TM) SE Runtime Environment (build 1.8.0_401-b10); Java HotSpot(TM) 64-Bit Server VM (build 25.401-b10, mixed mode)\n",
      "  Starting server from /Users/yutatsukumo/anaconda3/lib/python3.11/site-packages/h2o/backend/bin/h2o.jar\n",
      "  Ice root: /var/folders/zx/tjnnhhbx01x_b6njsk8c9p4c0000gp/T/tmp42falxjc\n",
      "  JVM stdout: /var/folders/zx/tjnnhhbx01x_b6njsk8c9p4c0000gp/T/tmp42falxjc/h2o_yutatsukumo_started_from_python.out\n",
      "  JVM stderr: /var/folders/zx/tjnnhhbx01x_b6njsk8c9p4c0000gp/T/tmp42falxjc/h2o_yutatsukumo_started_from_python.err\n",
      "  Server is running at http://127.0.0.1:54321\n",
      "Connecting to H2O server at http://127.0.0.1:54321 ... successful.\n"
     ]
    },
    {
     "data": {
      "text/html": [
       "\n",
       "<style>\n",
       "\n",
       "#h2o-table-1.h2o-container {\n",
       "  overflow-x: auto;\n",
       "}\n",
       "#h2o-table-1 .h2o-table {\n",
       "  /* width: 100%; */\n",
       "  margin-top: 1em;\n",
       "  margin-bottom: 1em;\n",
       "}\n",
       "#h2o-table-1 .h2o-table caption {\n",
       "  white-space: nowrap;\n",
       "  caption-side: top;\n",
       "  text-align: left;\n",
       "  /* margin-left: 1em; */\n",
       "  margin: 0;\n",
       "  font-size: larger;\n",
       "}\n",
       "#h2o-table-1 .h2o-table thead {\n",
       "  white-space: nowrap; \n",
       "  position: sticky;\n",
       "  top: 0;\n",
       "  box-shadow: 0 -1px inset;\n",
       "}\n",
       "#h2o-table-1 .h2o-table tbody {\n",
       "  overflow: auto;\n",
       "}\n",
       "#h2o-table-1 .h2o-table th,\n",
       "#h2o-table-1 .h2o-table td {\n",
       "  text-align: right;\n",
       "  /* border: 1px solid; */\n",
       "}\n",
       "#h2o-table-1 .h2o-table tr:nth-child(even) {\n",
       "  /* background: #F5F5F5 */\n",
       "}\n",
       "\n",
       "</style>      \n",
       "<div id=\"h2o-table-1\" class=\"h2o-container\">\n",
       "  <table class=\"h2o-table\">\n",
       "    <caption></caption>\n",
       "    <thead></thead>\n",
       "    <tbody><tr><td>H2O_cluster_uptime:</td>\n",
       "<td>01 secs</td></tr>\n",
       "<tr><td>H2O_cluster_timezone:</td>\n",
       "<td>America/New_York</td></tr>\n",
       "<tr><td>H2O_data_parsing_timezone:</td>\n",
       "<td>UTC</td></tr>\n",
       "<tr><td>H2O_cluster_version:</td>\n",
       "<td>3.44.0.3</td></tr>\n",
       "<tr><td>H2O_cluster_version_age:</td>\n",
       "<td>1 month and 19 days</td></tr>\n",
       "<tr><td>H2O_cluster_name:</td>\n",
       "<td>H2O_from_python_yutatsukumo_sb1u9t</td></tr>\n",
       "<tr><td>H2O_cluster_total_nodes:</td>\n",
       "<td>1</td></tr>\n",
       "<tr><td>H2O_cluster_free_memory:</td>\n",
       "<td>3.541 Gb</td></tr>\n",
       "<tr><td>H2O_cluster_total_cores:</td>\n",
       "<td>8</td></tr>\n",
       "<tr><td>H2O_cluster_allowed_cores:</td>\n",
       "<td>8</td></tr>\n",
       "<tr><td>H2O_cluster_status:</td>\n",
       "<td>locked, healthy</td></tr>\n",
       "<tr><td>H2O_connection_url:</td>\n",
       "<td>http://127.0.0.1:54321</td></tr>\n",
       "<tr><td>H2O_connection_proxy:</td>\n",
       "<td>{\"http\": null, \"https\": null}</td></tr>\n",
       "<tr><td>H2O_internal_security:</td>\n",
       "<td>False</td></tr>\n",
       "<tr><td>Python_version:</td>\n",
       "<td>3.11.5 final</td></tr></tbody>\n",
       "  </table>\n",
       "</div>\n"
      ],
      "text/plain": [
       "--------------------------  ----------------------------------\n",
       "H2O_cluster_uptime:         01 secs\n",
       "H2O_cluster_timezone:       America/New_York\n",
       "H2O_data_parsing_timezone:  UTC\n",
       "H2O_cluster_version:        3.44.0.3\n",
       "H2O_cluster_version_age:    1 month and 19 days\n",
       "H2O_cluster_name:           H2O_from_python_yutatsukumo_sb1u9t\n",
       "H2O_cluster_total_nodes:    1\n",
       "H2O_cluster_free_memory:    3.541 Gb\n",
       "H2O_cluster_total_cores:    8\n",
       "H2O_cluster_allowed_cores:  8\n",
       "H2O_cluster_status:         locked, healthy\n",
       "H2O_connection_url:         http://127.0.0.1:54321\n",
       "H2O_connection_proxy:       {\"http\": null, \"https\": null}\n",
       "H2O_internal_security:      False\n",
       "Python_version:             3.11.5 final\n",
       "--------------------------  ----------------------------------"
      ]
     },
     "metadata": {},
     "output_type": "display_data"
    }
   ],
   "source": [
    "# nthreads specifies number of threads. -1 means use all the CPU cores.\n",
    "# max_mem_size specifies the maximum amount of RAM to use.\n",
    "localH2O= h2o.init(nthreads = -1, max_mem_size=\"4g\")"
   ]
  },
  {
   "cell_type": "markdown",
   "id": "b1b35a63",
   "metadata": {},
   "source": [
    "##### CV with  H2O"
   ]
  },
  {
   "cell_type": "code",
   "execution_count": null,
   "id": "70d69efa",
   "metadata": {
    "Rmd_chunk_options": "eval=FALSE, echo=TRUE",
    "kernel": "Python3",
    "tags": [
     "report_cell"
    ]
   },
   "outputs": [
    {
     "name": "stdout",
     "output_type": "stream",
     "text": [
      "Parse progress: |████████████████████████████████████████████████████████████████| (done) 100%\n",
      "glm Model Build progress: |██████████████████████████████████████████████████████| (done) 100%\n"
     ]
    },
    {
     "data": {
      "text/plain": [
       "0.7790697716207187"
      ]
     },
     "execution_count": 49,
     "metadata": {},
     "output_type": "execute_result"
    }
   ],
   "source": [
    "# Import the prostate dataset\n",
    "prostate = h2o.import_file(\"http://s3.amazonaws.com/h2o-public-test-data/smalldata/prostate/prostate.csv.zip\")\n",
    "\n",
    "# Set the predictor names and the response column name\n",
    "response = \"CAPSULE\"\n",
    "predictors = prostate.names[3:8]\n",
    "\n",
    "# Convert the response column to a factor\n",
    "prostate['CAPSULE'] = prostate['CAPSULE'].asfactor()\n",
    "\n",
    "# Train a GBM model setting nfolds to 5\n",
    "prostate_gbm = H2OGeneralizedLinearEstimator(nfolds = 5, seed = 1)\n",
    "prostate_gbm.train(x=predictors, y=response, training_frame=prostate)\n",
    "\n",
    "# AUC of cross-validated holdout predictions\n",
    "prostate_gbm.auc(xval=True)"
   ]
  },
  {
   "cell_type": "markdown",
   "id": "0515ba8c",
   "metadata": {},
   "source": [
    "##### Shut down H2O"
   ]
  },
  {
   "cell_type": "code",
   "execution_count": null,
   "id": "83132202",
   "metadata": {
    "Rmd_chunk_options": "eval=FALSE, echo=TRUE",
    "kernel": "Python3",
    "tags": [
     "report_cell"
    ]
   },
   "outputs": [
    {
     "name": "stdout",
     "output_type": "stream",
     "text": [
      "H2O session _sid_8ba4 closed.\n"
     ]
    }
   ],
   "source": [
    "h2o.cluster().shutdown(prompt =False)"
   ]
  }
 ],
 "metadata": {
  "Rmd_chunk_options": {
   "author": "Your Name Here",
   "date": "2024-1-30",
   "output": "html_document",
   "title": "Resampling"
  },
  "kernelspec": {
   "display_name": "Python 3 (ipykernel)",
   "language": "python",
   "name": "python3"
  },
  "language_info": {
   "codemirror_mode": {
    "name": "ipython",
    "version": 3
   },
   "file_extension": ".py",
   "mimetype": "text/x-python",
   "name": "python",
   "nbconvert_exporter": "python",
   "pygments_lexer": "ipython3",
   "version": "3.11.5"
  },
  "sos": {
   "kernels": [
    [
     "SoS",
     "sos",
     "",
     ""
    ],
    [
     "R",
     "ir",
     "",
     ""
    ],
    [
     "css",
     "css",
     "",
     ""
    ],
    [
     "Python3",
     "ir",
     "",
     ""
    ]
   ]
  }
 },
 "nbformat": 4,
 "nbformat_minor": 5
}
